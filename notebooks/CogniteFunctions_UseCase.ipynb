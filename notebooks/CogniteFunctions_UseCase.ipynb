{
  "cells": [
    {
      "cell_type": "markdown",
      "metadata": {
        "id": "TlBG2jXhX329"
      },
      "source": [
        "## Use-case : Heat Exchanger Monitoring"
      ]
    },
    {
      "cell_type": "markdown",
      "metadata": {
        "id": "LYGeDZOtX-a6"
      },
      "source": [
        "When a heat exchanger has been in operation for a while, its performance decreases for a variety of reasons - such as, fouling, scaling, corrosion etc.\n",
        "It’s important to monitor the heat transfer efficiency of the heat exchanger, in order to obtain the desired output."
      ]
    },
    {
      "cell_type": "markdown",
      "metadata": {
        "id": "yzs1DWQIYNrt"
      },
      "source": [
        "We'll monitor the **thermal resistance** of a heat exchanger.\n",
        "This is important for the maintenance and cleaning of the HE. If the thermal resistance goes down, it’s not performing at the optimal level so we need to start cleaning and/or maintenance.\n"
      ]
    },
    {
      "cell_type": "markdown",
      "metadata": {
        "id": "3tcqd60_YZOC"
      },
      "source": [
        "There are some heat exchangers in the Open Industrial Dataset, we'll examine one of them here."
      ]
    },
    {
      "cell_type": "markdown",
      "metadata": {
        "id": "gJC1-31Op19_"
      },
      "source": [
        "System is shown in the P&ID file here https://fusion.cognite.com/publicdata/explore/file/3136055771416774"
      ]
    },
    {
      "cell_type": "markdown",
      "metadata": {
        "id": "f2iF3bSfrhT4"
      },
      "source": [
        "As we see in the annotated P&ID diagrams, with the contextualization. Various sensor data or tags stored in the CDF can be accessed directly from the diagram."
      ]
    },
    {
      "cell_type": "markdown",
      "metadata": {},
      "source": [
        "<img src=\"../images/pnid-screenshot.png\">"
      ]
    },
    {
      "cell_type": "markdown",
      "metadata": {
        "id": "icSIUrn2ZZ8a"
      },
      "source": [
        "### Simplified System Diagram"
      ]
    },
    {
      "cell_type": "markdown",
      "metadata": {
        "id": "dxcNzoUuq94v"
      },
      "source": [
        "Discharge coolers are 2-stage heat exchangers as shown in the Figure, along with the various sensors for inflow & outflow."
      ]
    },
    {
      "cell_type": "markdown",
      "metadata": {},
      "source": [
        "<img src=\"../images/simplified-system-diagram.png\">"
      ]
    },
    {
      "cell_type": "markdown",
      "metadata": {},
      "source": [
        "Next, we'll use the Cognite Data Fusion to retrieve these sensors data and ways to calculate the thermal resistance."
      ]
    },
    {
      "cell_type": "markdown",
      "metadata": {
        "id": "u9tprOC8AHq2"
      },
      "source": [
        "## Authentication and Client Creation for CDF"
      ]
    },
    {
      "cell_type": "markdown",
      "metadata": {
        "id": "sAko0tLJlmzz"
      },
      "source": [
        "Here we'll create the cognite client using Client credentials. We need to supply the tenant_id, client_id and client secret along with cluster name and project name to create the cognite client. Once this client is created, this will be the main way to communicate with the Cognite Data Fusion."
      ]
    },
    {
      "cell_type": "markdown",
      "metadata": {},
      "source": [
        "Import and create a client to communicate with the cognite data platform (CDF)"
      ]
    },
    {
      "cell_type": "code",
      "execution_count": 1,
      "metadata": {},
      "outputs": [],
      "source": [
        "#from cognite.client import CogniteClient\n",
        "from cognite.experimental import CogniteClient"
      ]
    },
    {
      "cell_type": "code",
      "execution_count": 2,
      "metadata": {
        "colab": {
          "base_uri": "https://localhost:8080/"
        },
        "id": "kucbrHxMANVE",
        "outputId": "0e6b1e73-def3-4916-ef30-da090674fb71"
      },
      "outputs": [],
      "source": [
        "import os\n",
        "from getpass import getpass\n",
        "from pathlib import Path\n",
        "from dotenv import load_dotenv\n",
        "# Contact Project Administrator to get these\n",
        "TENANT_ID=\"48d5043c-cf70-4c49-881c-c638f5796997\"\n",
        "CLIENT_ID=\"fab52bb5-9de2-4f9e-aefa-712da4b5fe00\"\n",
        "CDF_CLUSTER=\"westeurope-1\"\n",
        "COGNITE_PROJECT=\"ds-basics\"\n",
        "\n",
        "SCOPES = [f\"https://{CDF_CLUSTER}.cognitedata.com/.default\"]\n",
        "\n",
        "# Obtain the Environment Variables from .env file\n",
        "dotenv_path = Path(\"../.env\")\n",
        "load_dotenv(dotenv_path=dotenv_path)\n",
        "CLIENT_SECRET = os.getenv(\"CLIENT_SECRET\") \n",
        "#CLIENT_SECRET = getpass(\"Enter the Client Secret: \") # To pass secret interactively\n",
        "\n",
        "TOKEN_URL = f\"https://login.microsoftonline.com/{TENANT_ID}/oauth2/v2.0/token\"\n",
        "\n",
        "client = CogniteClient(\n",
        "    token_url=TOKEN_URL,\n",
        "    token_client_id=CLIENT_ID,\n",
        "    token_client_secret=CLIENT_SECRET,\n",
        "    token_scopes=SCOPES,\n",
        "    project=COGNITE_PROJECT,\n",
        "    base_url=f\"https://{CDF_CLUSTER}.cognitedata.com\",\n",
        "    client_name=\"cdf_client\",\n",
        "    debug=False,\n",
        ")"
      ]
    },
    {
      "cell_type": "markdown",
      "metadata": {
        "id": "ZNm1c42dzSe2"
      },
      "source": [
        "This is just one of the ways to create the client, there are many other ways e.g. Interactive login, Device code etc"
      ]
    },
    {
      "cell_type": "markdown",
      "metadata": {
        "id": "6yWH-qkrgarA"
      },
      "source": [
        "Guide for authentication and creating the client is available here https://github.com/cognitedata/python-oidc-authentication"
      ]
    },
    {
      "cell_type": "markdown",
      "metadata": {
        "id": "a794bjHzZioL"
      },
      "source": [
        "## Finding data related to the System"
      ]
    },
    {
      "cell_type": "markdown",
      "metadata": {
        "id": "qfYzQWggr8OS"
      },
      "source": [
        "This can be achieved with the Hierarchy based structure in the CDF. High level System are stored as the Assets e.g. here **23-HA-9114** and **23-HA-9115** are stored as the assets. All the tags related to them are linked to the respective assets in order to access them easily."
      ]
    },
    {
      "cell_type": "markdown",
      "metadata": {
        "id": "KV1G4ZAyxA-R"
      },
      "source": [
        "Let's quickly get the IDs for assets we're interested in"
      ]
    },
    {
      "cell_type": "code",
      "execution_count": 3,
      "metadata": {
        "colab": {
          "base_uri": "https://localhost:8080/",
          "height": 414
        },
        "id": "kuT-IigXtVkc",
        "outputId": "8438a8b1-3ff3-454d-838c-b3d541a2bd9a"
      },
      "outputs": [
        {
          "data": {
            "text/html": [
              "<div>\n",
              "<style scoped>\n",
              "    .dataframe tbody tr th:only-of-type {\n",
              "        vertical-align: middle;\n",
              "    }\n",
              "\n",
              "    .dataframe tbody tr th {\n",
              "        vertical-align: top;\n",
              "    }\n",
              "\n",
              "    .dataframe thead th {\n",
              "        text-align: right;\n",
              "    }\n",
              "</style>\n",
              "<table border=\"1\" class=\"dataframe\">\n",
              "  <thead>\n",
              "    <tr style=\"text-align: right;\">\n",
              "      <th></th>\n",
              "      <th>external_id</th>\n",
              "      <th>name</th>\n",
              "      <th>parent_id</th>\n",
              "      <th>parent_external_id</th>\n",
              "      <th>description</th>\n",
              "      <th>metadata</th>\n",
              "      <th>source</th>\n",
              "      <th>id</th>\n",
              "      <th>created_time</th>\n",
              "      <th>last_updated_time</th>\n",
              "      <th>root_id</th>\n",
              "    </tr>\n",
              "  </thead>\n",
              "  <tbody>\n",
              "    <tr>\n",
              "      <th>0</th>\n",
              "      <td>5345363121325760</td>\n",
              "      <td>23-HA-9114</td>\n",
              "      <td>264396548249584</td>\n",
              "      <td>2513266419866445</td>\n",
              "      <td>VRD - 1ST STAGE DISCHARGE COOLER 1</td>\n",
              "      <td>{'ELC_STATUS_ID': '1211', 'RES_ID': '531303', ...</td>\n",
              "      <td>petro-tech-staging</td>\n",
              "      <td>7640884189698369</td>\n",
              "      <td>1652690345913</td>\n",
              "      <td>1652690345913</td>\n",
              "      <td>2075231145010555</td>\n",
              "    </tr>\n",
              "    <tr>\n",
              "      <th>1</th>\n",
              "      <td>1305599545806638</td>\n",
              "      <td>23-HA-9115</td>\n",
              "      <td>264396548249584</td>\n",
              "      <td>2513266419866445</td>\n",
              "      <td>VRD - 1ST STAGE DISCHARGE COOLER 2</td>\n",
              "      <td>{'ELC_STATUS_ID': '1211', 'RES_ID': '531303', ...</td>\n",
              "      <td>petro-tech-staging</td>\n",
              "      <td>2096576847847256</td>\n",
              "      <td>1652690345913</td>\n",
              "      <td>1652690345913</td>\n",
              "      <td>2075231145010555</td>\n",
              "    </tr>\n",
              "    <tr>\n",
              "      <th>2</th>\n",
              "      <td>8820916275841408</td>\n",
              "      <td>23-VA-9114</td>\n",
              "      <td>6990494653502625</td>\n",
              "      <td>2499711953216311</td>\n",
              "      <td>VRD - 1ST STAGE COMPRESSOR MARINE VANE SEPARATOR</td>\n",
              "      <td>{'ELC_STATUS_ID': '1211', 'SOURCE_DB': 'workma...</td>\n",
              "      <td>petro-tech-staging</td>\n",
              "      <td>8140508315193333</td>\n",
              "      <td>1652690345913</td>\n",
              "      <td>1652690345913</td>\n",
              "      <td>2075231145010555</td>\n",
              "    </tr>\n",
              "    <tr>\n",
              "      <th>3</th>\n",
              "      <td>1308676097270399</td>\n",
              "      <td>23-GO-9114</td>\n",
              "      <td>6990494653502625</td>\n",
              "      <td>2499711953216311</td>\n",
              "      <td>VRD - 1ST STAGE COMPPRESSOR ENCLOSURE INLET AI...</td>\n",
              "      <td>{'ELC_STATUS_ID': '1211', 'SOURCE_DB': 'workma...</td>\n",
              "      <td>petro-tech-staging</td>\n",
              "      <td>7778925754685498</td>\n",
              "      <td>1652690345913</td>\n",
              "      <td>1652690345913</td>\n",
              "      <td>2075231145010555</td>\n",
              "    </tr>\n",
              "    <tr>\n",
              "      <th>4</th>\n",
              "      <td>2861239574637735</td>\n",
              "      <td>23-HA-9103</td>\n",
              "      <td>264396548249584</td>\n",
              "      <td>2513266419866445</td>\n",
              "      <td>VRD - 1ST STAGE SUCTION COOLER</td>\n",
              "      <td>{'ELC_STATUS_ID': '1211', 'RES_ID': '531306', ...</td>\n",
              "      <td>petro-tech-staging</td>\n",
              "      <td>7130743143880734</td>\n",
              "      <td>1652690345913</td>\n",
              "      <td>1652690345913</td>\n",
              "      <td>2075231145010555</td>\n",
              "    </tr>\n",
              "  </tbody>\n",
              "</table>\n",
              "</div>"
            ],
            "text/plain": [
              "AssetList([<cognite.client.data_classes.assets.Asset at 0x7f3c4c0748b0>,\n",
              "           <cognite.client.data_classes.assets.Asset at 0x7f3c06a01fa0>,\n",
              "           <cognite.client.data_classes.assets.Asset at 0x7f3c06927340>,\n",
              "           <cognite.client.data_classes.assets.Asset at 0x7f3c06927550>,\n",
              "           <cognite.client.data_classes.assets.Asset at 0x7f3c069275e0>])"
            ]
          },
          "execution_count": 3,
          "metadata": {},
          "output_type": "execute_result"
        }
      ],
      "source": [
        "asset_name = \"23-HA-9114\"\n",
        "assets = client.assets.search(name=asset_name)\n",
        "assets[:5]"
      ]
    },
    {
      "cell_type": "markdown",
      "metadata": {
        "id": "KwMxpt4yxH_a"
      },
      "source": [
        "Now we can use the first two IDs to get the time series or any other data related to these two Heat Exchangers/Discharge coolers **23-HA-9114** and **23-HA-9115**"
      ]
    },
    {
      "cell_type": "code",
      "execution_count": 4,
      "metadata": {
        "colab": {
          "base_uri": "https://localhost:8080/",
          "height": 1000
        },
        "id": "71mw1FBVxHEd",
        "outputId": "06148001-d71b-45c0-b7ed-f6cbfcbd86e1"
      },
      "outputs": [
        {
          "data": {
            "text/html": [
              "<div>\n",
              "<style scoped>\n",
              "    .dataframe tbody tr th:only-of-type {\n",
              "        vertical-align: middle;\n",
              "    }\n",
              "\n",
              "    .dataframe tbody tr th {\n",
              "        vertical-align: top;\n",
              "    }\n",
              "\n",
              "    .dataframe thead th {\n",
              "        text-align: right;\n",
              "    }\n",
              "</style>\n",
              "<table border=\"1\" class=\"dataframe\">\n",
              "  <thead>\n",
              "    <tr style=\"text-align: right;\">\n",
              "      <th></th>\n",
              "      <th>id</th>\n",
              "      <th>external_id</th>\n",
              "      <th>name</th>\n",
              "      <th>is_string</th>\n",
              "      <th>metadata</th>\n",
              "      <th>asset_id</th>\n",
              "      <th>is_step</th>\n",
              "      <th>description</th>\n",
              "      <th>security_categories</th>\n",
              "      <th>created_time</th>\n",
              "      <th>last_updated_time</th>\n",
              "      <th>unit</th>\n",
              "    </tr>\n",
              "  </thead>\n",
              "  <tbody>\n",
              "    <tr>\n",
              "      <th>0</th>\n",
              "      <td>328127348154751</td>\n",
              "      <td>pi:160037</td>\n",
              "      <td>VAL_23_FIC_92543_08:Z.X.Value</td>\n",
              "      <td>False</td>\n",
              "      <td>{'engunits': '', 'span': '100', 'instrumenttag...</td>\n",
              "      <td>5552983701089393</td>\n",
              "      <td>False</td>\n",
              "      <td>PH 1stStgComp AntSrg Limit 2 PV</td>\n",
              "      <td>[]</td>\n",
              "      <td>1652691565833</td>\n",
              "      <td>1652691565833</td>\n",
              "      <td>NaN</td>\n",
              "    </tr>\n",
              "    <tr>\n",
              "      <th>1</th>\n",
              "      <td>385469970857424</td>\n",
              "      <td>pi:191092</td>\n",
              "      <td>VAL_23-TT-92604A:X.Value</td>\n",
              "      <td>False</td>\n",
              "      <td>{'engunits': 'degC', 'span': '100', 'instrumen...</td>\n",
              "      <td>7472153895477615</td>\n",
              "      <td>False</td>\n",
              "      <td>PH 1stStgDiscCool Gas Out Output</td>\n",
              "      <td>[]</td>\n",
              "      <td>1652691565833</td>\n",
              "      <td>1652691565833</td>\n",
              "      <td>degC</td>\n",
              "    </tr>\n",
              "    <tr>\n",
              "      <th>2</th>\n",
              "      <td>524525133603395</td>\n",
              "      <td>pi:160039</td>\n",
              "      <td>VAL_23_FIC_92543_11:Z.X.Value</td>\n",
              "      <td>False</td>\n",
              "      <td>{'engunits': '', 'span': '100', 'instrumenttag...</td>\n",
              "      <td>5552983701089393</td>\n",
              "      <td>False</td>\n",
              "      <td>PH Surge Counter</td>\n",
              "      <td>[]</td>\n",
              "      <td>1652691566033</td>\n",
              "      <td>1652691566033</td>\n",
              "      <td>NaN</td>\n",
              "    </tr>\n",
              "    <tr>\n",
              "      <th>3</th>\n",
              "      <td>963605533237469</td>\n",
              "      <td>pi:160888</td>\n",
              "      <td>VAL_23-TT-92603:X.Value</td>\n",
              "      <td>False</td>\n",
              "      <td>{'engunits': '', 'span': '100', 'instrumenttag...</td>\n",
              "      <td>4307262662732694</td>\n",
              "      <td>False</td>\n",
              "      <td>PH 1stStgDiscCool Gas Out</td>\n",
              "      <td>[]</td>\n",
              "      <td>1652691565806</td>\n",
              "      <td>1652691565806</td>\n",
              "      <td>NaN</td>\n",
              "    </tr>\n",
              "    <tr>\n",
              "      <th>4</th>\n",
              "      <td>1336520588941003</td>\n",
              "      <td>pi:160034</td>\n",
              "      <td>VAL_23_FIC_92543_05:Z.X.Value</td>\n",
              "      <td>False</td>\n",
              "      <td>{'engunits': '', 'span': '100', 'instrumenttag...</td>\n",
              "      <td>5552983701089393</td>\n",
              "      <td>False</td>\n",
              "      <td>PH 1stStgComp First AntSrg CountTot</td>\n",
              "      <td>[]</td>\n",
              "      <td>1652691566102</td>\n",
              "      <td>1652691566102</td>\n",
              "      <td>NaN</td>\n",
              "    </tr>\n",
              "  </tbody>\n",
              "</table>\n",
              "</div>"
            ],
            "text/plain": [
              "TimeSeriesList([<cognite.client.data_classes.time_series.TimeSeries at 0x7f3c06a01d90>,\n",
              "                <cognite.client.data_classes.time_series.TimeSeries at 0x7f3c28ffca90>,\n",
              "                <cognite.client.data_classes.time_series.TimeSeries at 0x7f3c28ffcb80>,\n",
              "                <cognite.client.data_classes.time_series.TimeSeries at 0x7f3c28ffcc10>,\n",
              "                <cognite.client.data_classes.time_series.TimeSeries at 0x7f3c28ffccd0>])"
            ]
          },
          "execution_count": 4,
          "metadata": {},
          "output_type": "execute_result"
        }
      ],
      "source": [
        "client.time_series.list(asset_subtree_ids=[7640884189698369,2096576847847256])[:5]"
      ]
    },
    {
      "cell_type": "markdown",
      "metadata": {
        "id": "G32Sigx-zQy-"
      },
      "source": [
        "You can also retrieve the subtree for these Assets"
      ]
    },
    {
      "cell_type": "code",
      "execution_count": 5,
      "metadata": {
        "colab": {
          "base_uri": "https://localhost:8080/",
          "height": 397
        },
        "id": "4PrfogK3zU-y",
        "outputId": "74b8b674-3e79-448f-b5a1-6faf2dd18c50"
      },
      "outputs": [
        {
          "data": {
            "text/html": [
              "<div>\n",
              "<style scoped>\n",
              "    .dataframe tbody tr th:only-of-type {\n",
              "        vertical-align: middle;\n",
              "    }\n",
              "\n",
              "    .dataframe tbody tr th {\n",
              "        vertical-align: top;\n",
              "    }\n",
              "\n",
              "    .dataframe thead th {\n",
              "        text-align: right;\n",
              "    }\n",
              "</style>\n",
              "<table border=\"1\" class=\"dataframe\">\n",
              "  <thead>\n",
              "    <tr style=\"text-align: right;\">\n",
              "      <th></th>\n",
              "      <th>external_id</th>\n",
              "      <th>name</th>\n",
              "      <th>parent_id</th>\n",
              "      <th>parent_external_id</th>\n",
              "      <th>description</th>\n",
              "      <th>metadata</th>\n",
              "      <th>source</th>\n",
              "      <th>id</th>\n",
              "      <th>created_time</th>\n",
              "      <th>last_updated_time</th>\n",
              "      <th>root_id</th>\n",
              "    </tr>\n",
              "  </thead>\n",
              "  <tbody>\n",
              "    <tr>\n",
              "      <th>0</th>\n",
              "      <td>5345363121325760</td>\n",
              "      <td>23-HA-9114</td>\n",
              "      <td>264396548249584</td>\n",
              "      <td>2513266419866445</td>\n",
              "      <td>VRD - 1ST STAGE DISCHARGE COOLER 1</td>\n",
              "      <td>{'ELC_STATUS_ID': '1211', 'RES_ID': '531303', ...</td>\n",
              "      <td>petro-tech-staging</td>\n",
              "      <td>7640884189698369</td>\n",
              "      <td>1652690345913</td>\n",
              "      <td>1652690345913</td>\n",
              "      <td>2075231145010555</td>\n",
              "    </tr>\n",
              "    <tr>\n",
              "      <th>1</th>\n",
              "      <td>6045313781173559</td>\n",
              "      <td>23-FV-92543</td>\n",
              "      <td>7640884189698369</td>\n",
              "      <td>5345363121325760</td>\n",
              "      <td>VRD - PH 1STSTGCOMP ANTI-SURGE</td>\n",
              "      <td>{'ELC_STATUS_ID': '1211', 'RES_ID': '569425', ...</td>\n",
              "      <td>petro-tech-staging</td>\n",
              "      <td>534249684184196</td>\n",
              "      <td>1652690345913</td>\n",
              "      <td>1652690345913</td>\n",
              "      <td>2075231145010555</td>\n",
              "    </tr>\n",
              "    <tr>\n",
              "      <th>2</th>\n",
              "      <td>3214951100107740</td>\n",
              "      <td>45-TT-92606</td>\n",
              "      <td>7640884189698369</td>\n",
              "      <td>5345363121325760</td>\n",
              "      <td>VRD - PH 1STSTGDISCCLR COOLMED SPLY</td>\n",
              "      <td>{'ELC_STATUS_ID': '1211', 'RES_ID': '496518', ...</td>\n",
              "      <td>petro-tech-staging</td>\n",
              "      <td>791972270586176</td>\n",
              "      <td>1652690345913</td>\n",
              "      <td>1652690345913</td>\n",
              "      <td>2075231145010555</td>\n",
              "    </tr>\n",
              "    <tr>\n",
              "      <th>3</th>\n",
              "      <td>5901066000673985</td>\n",
              "      <td>23-ESDV-92551B</td>\n",
              "      <td>7640884189698369</td>\n",
              "      <td>5345363121325760</td>\n",
              "      <td>VRD - PH 1STSTGDISCHCLR GAS OUT EQ</td>\n",
              "      <td>{'ELC_STATUS_ID': '1211', 'SOURCE_DB': 'workma...</td>\n",
              "      <td>petro-tech-staging</td>\n",
              "      <td>1427443677325668</td>\n",
              "      <td>1652690345913</td>\n",
              "      <td>1652690345913</td>\n",
              "      <td>2075231145010555</td>\n",
              "    </tr>\n",
              "    <tr>\n",
              "      <th>4</th>\n",
              "      <td>5412677358344403</td>\n",
              "      <td>23-TV-92604B</td>\n",
              "      <td>7640884189698369</td>\n",
              "      <td>5345363121325760</td>\n",
              "      <td>VRD - PH 1STSTGDISCCOOL COOLMED IN</td>\n",
              "      <td>{'ELC_STATUS_ID': '1211', 'RES_ID': '609904', ...</td>\n",
              "      <td>petro-tech-staging</td>\n",
              "      <td>2179606378425112</td>\n",
              "      <td>1652690345913</td>\n",
              "      <td>1652690345913</td>\n",
              "      <td>2075231145010555</td>\n",
              "    </tr>\n",
              "  </tbody>\n",
              "</table>\n",
              "</div>"
            ],
            "text/plain": [
              "AssetList([<cognite.client.data_classes.assets.Asset at 0x7f3c28ffca60>,\n",
              "           <cognite.client.data_classes.assets.Asset at 0x7f3c06a01a30>,\n",
              "           <cognite.client.data_classes.assets.Asset at 0x7f3c28ffcfd0>,\n",
              "           <cognite.client.data_classes.assets.Asset at 0x7f3c28ffcf10>,\n",
              "           <cognite.client.data_classes.assets.Asset at 0x7f3c28ffcdf0>])"
            ]
          },
          "execution_count": 5,
          "metadata": {},
          "output_type": "execute_result"
        }
      ],
      "source": [
        "subtree = client.assets.retrieve_subtree(id=7640884189698369)\n",
        "subtree[:5]"
      ]
    },
    {
      "cell_type": "markdown",
      "metadata": {
        "id": "4aCuj5fsznnY"
      },
      "source": [
        "There are many filtering and searching options in python sdk. refer to the documentation for more details."
      ]
    },
    {
      "cell_type": "markdown",
      "metadata": {
        "id": "0Kasf_kC0sIb"
      },
      "source": [
        "## Retrieve the Data"
      ]
    },
    {
      "cell_type": "markdown",
      "metadata": {
        "id": "KjNfdUsv4rf4"
      },
      "source": [
        "Let's Fetch the Temperatures and Flow rates for the discharge coolers"
      ]
    },
    {
      "cell_type": "code",
      "execution_count": 6,
      "metadata": {
        "id": "LzBNErGv4CMt"
      },
      "outputs": [],
      "source": [
        "column_names = [\"T_cold_IN\",\"T_cold_OUT\",\"T_hot_IN\",\"T_hot_OUT\",\"Flow_cold\",\"Flow_hot\"]"
      ]
    },
    {
      "cell_type": "markdown",
      "metadata": {
        "id": "DwyftPqx4xJe"
      },
      "source": [
        "We can look up external IDs for the sensors we're interested in and use them to filter & retrieve the data we need from CDF."
      ]
    },
    {
      "cell_type": "code",
      "execution_count": 7,
      "metadata": {
        "id": "BXSdeeo60wp4"
      },
      "outputs": [],
      "source": [
        "ts_exids = ['pi:163657','pi:163658','pi:160887','pi:191092','pi:163374','pi:160184']"
      ]
    },
    {
      "cell_type": "markdown",
      "metadata": {
        "id": "s9O0iJbh48Dh"
      },
      "source": [
        "Specify the start and end date , there are also options for aggregation and granularity of data."
      ]
    },
    {
      "cell_type": "markdown",
      "metadata": {
        "id": "qWdUkmrG5fKY"
      },
      "source": [
        "Note : Instead of dates, we can also specify strings for start and end dates, e.g. **start=\"2w-ago\", end=\"now\"**"
      ]
    },
    {
      "cell_type": "code",
      "execution_count": 24,
      "metadata": {
        "colab": {
          "base_uri": "https://localhost:8080/",
          "height": 206
        },
        "id": "43EjiQqj01Kd",
        "outputId": "f159760b-7ddf-4cbc-e12e-05e51d74b690"
      },
      "outputs": [
        {
          "data": {
            "text/html": [
              "<div>\n",
              "<style scoped>\n",
              "    .dataframe tbody tr th:only-of-type {\n",
              "        vertical-align: middle;\n",
              "    }\n",
              "\n",
              "    .dataframe tbody tr th {\n",
              "        vertical-align: top;\n",
              "    }\n",
              "\n",
              "    .dataframe thead th {\n",
              "        text-align: right;\n",
              "    }\n",
              "</style>\n",
              "<table border=\"1\" class=\"dataframe\">\n",
              "  <thead>\n",
              "    <tr style=\"text-align: right;\">\n",
              "      <th></th>\n",
              "      <th>T_cold_IN</th>\n",
              "      <th>T_cold_OUT</th>\n",
              "      <th>T_hot_IN</th>\n",
              "      <th>T_hot_OUT</th>\n",
              "      <th>Flow_cold</th>\n",
              "      <th>Flow_hot</th>\n",
              "    </tr>\n",
              "  </thead>\n",
              "  <tbody>\n",
              "    <tr>\n",
              "      <th>2018-08-01 00:00:00</th>\n",
              "      <td>16.784609</td>\n",
              "      <td>108.846831</td>\n",
              "      <td>126.606315</td>\n",
              "      <td>35.017099</td>\n",
              "      <td>101.142261</td>\n",
              "      <td>164362.175208</td>\n",
              "    </tr>\n",
              "    <tr>\n",
              "      <th>2018-08-01 01:00:00</th>\n",
              "      <td>16.802548</td>\n",
              "      <td>109.051995</td>\n",
              "      <td>126.506479</td>\n",
              "      <td>34.962238</td>\n",
              "      <td>99.901727</td>\n",
              "      <td>163875.622135</td>\n",
              "    </tr>\n",
              "    <tr>\n",
              "      <th>2018-08-01 02:00:00</th>\n",
              "      <td>16.796142</td>\n",
              "      <td>108.922387</td>\n",
              "      <td>126.460531</td>\n",
              "      <td>35.020834</td>\n",
              "      <td>100.574942</td>\n",
              "      <td>164397.399993</td>\n",
              "    </tr>\n",
              "    <tr>\n",
              "      <th>2018-08-01 03:00:00</th>\n",
              "      <td>16.793055</td>\n",
              "      <td>109.171361</td>\n",
              "      <td>126.621469</td>\n",
              "      <td>34.990039</td>\n",
              "      <td>99.346718</td>\n",
              "      <td>163128.807848</td>\n",
              "    </tr>\n",
              "    <tr>\n",
              "      <th>2018-08-01 04:00:00</th>\n",
              "      <td>16.800542</td>\n",
              "      <td>109.132157</td>\n",
              "      <td>126.479283</td>\n",
              "      <td>34.996638</td>\n",
              "      <td>99.440407</td>\n",
              "      <td>163634.013288</td>\n",
              "    </tr>\n",
              "  </tbody>\n",
              "</table>\n",
              "</div>"
            ],
            "text/plain": [
              "                     T_cold_IN  T_cold_OUT    T_hot_IN  T_hot_OUT   Flow_cold  \\\n",
              "2018-08-01 00:00:00  16.784609  108.846831  126.606315  35.017099  101.142261   \n",
              "2018-08-01 01:00:00  16.802548  109.051995  126.506479  34.962238   99.901727   \n",
              "2018-08-01 02:00:00  16.796142  108.922387  126.460531  35.020834  100.574942   \n",
              "2018-08-01 03:00:00  16.793055  109.171361  126.621469  34.990039   99.346718   \n",
              "2018-08-01 04:00:00  16.800542  109.132157  126.479283  34.996638   99.440407   \n",
              "\n",
              "                          Flow_hot  \n",
              "2018-08-01 00:00:00  164362.175208  \n",
              "2018-08-01 01:00:00  163875.622135  \n",
              "2018-08-01 02:00:00  164397.399993  \n",
              "2018-08-01 03:00:00  163128.807848  \n",
              "2018-08-01 04:00:00  163634.013288  "
            ]
          },
          "execution_count": 24,
          "metadata": {},
          "output_type": "execute_result"
        }
      ],
      "source": [
        "import datetime\n",
        "from datetime import timedelta\n",
        "start_date = datetime.datetime(2018, 8, 1)\n",
        "end_date = start_date + timedelta(days=30)\n",
        "\n",
        "df = client.datapoints.retrieve_dataframe(external_id=ts_exids,\n",
        "                                                     aggregates=['average'],\n",
        "                                                     granularity='1h',\n",
        "                                                     start=start_date,\n",
        "                                                     end=end_date,\n",
        "                                                     include_aggregate_name=False\n",
        "                                                     )\n",
        "df.fillna(method=\"ffill\", inplace=True)\n",
        "df.columns = column_names\n",
        "df.head()"
      ]
    },
    {
      "cell_type": "markdown",
      "metadata": {
        "id": "q2FP8_eB1HgX"
      },
      "source": [
        "## Visualize the data"
      ]
    },
    {
      "cell_type": "markdown",
      "metadata": {
        "id": "LW8vdouA5KuE"
      },
      "source": [
        "Let's quickly plot the data"
      ]
    },
    {
      "cell_type": "code",
      "execution_count": 25,
      "metadata": {
        "id": "1lPm4laW2LUP"
      },
      "outputs": [],
      "source": [
        "import matplotlib.pyplot as plt"
      ]
    },
    {
      "cell_type": "code",
      "execution_count": 26,
      "metadata": {
        "colab": {
          "base_uri": "https://localhost:8080/",
          "height": 885
        },
        "id": "7QnJ1_dh1J99",
        "outputId": "4542e5c6-40c2-45ad-f7d9-c3c8e06beb57"
      },
      "outputs": [
        {
          "data": {
            "image/png": "[encoded data removed]",
            "text/plain": [
              "<Figure size 1440x1080 with 6 Axes>"
            ]
          },
          "metadata": {
            "needs_background": "light"
          },
          "output_type": "display_data"
        }
      ],
      "source": [
        "cols = df.columns\n",
        "\n",
        "fig, axes = plt.subplots(nrows=3, ncols=2, figsize=(20,15))\n",
        "for i, col in enumerate(cols):\n",
        "    df.loc[:, [col]].plot(ax=axes.ravel()[i])"
      ]
    },
    {
      "cell_type": "markdown",
      "metadata": {
        "id": "1-gxtCqz2Aca"
      },
      "source": [
        "## Heat Exchanger Calculations"
      ]
    },
    {
      "cell_type": "markdown",
      "metadata": {
        "id": "9nX1AsoV0d8b"
      },
      "source": [
        "First of all let's bring the mass flow rates into same unit of measurement. (kg/seconds)"
      ]
    },
    {
      "cell_type": "code",
      "execution_count": 27,
      "metadata": {
        "id": "aeYhDYrj-FMp"
      },
      "outputs": [],
      "source": [
        "df['Flow_cold'] = df['Flow_cold']*1000/3600.0\n",
        "df['Flow_hot'] = df['Flow_hot']/3600.0"
      ]
    },
    {
      "cell_type": "code",
      "execution_count": 28,
      "metadata": {
        "colab": {
          "base_uri": "https://localhost:8080/",
          "height": 206
        },
        "id": "S-AxXFRN2Sfc",
        "outputId": "0eed5d54-008e-4a9f-c871-19b7b9c3417d"
      },
      "outputs": [
        {
          "data": {
            "text/html": [
              "<div>\n",
              "<style scoped>\n",
              "    .dataframe tbody tr th:only-of-type {\n",
              "        vertical-align: middle;\n",
              "    }\n",
              "\n",
              "    .dataframe tbody tr th {\n",
              "        vertical-align: top;\n",
              "    }\n",
              "\n",
              "    .dataframe thead th {\n",
              "        text-align: right;\n",
              "    }\n",
              "</style>\n",
              "<table border=\"1\" class=\"dataframe\">\n",
              "  <thead>\n",
              "    <tr style=\"text-align: right;\">\n",
              "      <th></th>\n",
              "      <th>T_cold_IN</th>\n",
              "      <th>T_cold_OUT</th>\n",
              "      <th>T_hot_IN</th>\n",
              "      <th>T_hot_OUT</th>\n",
              "      <th>Flow_cold</th>\n",
              "      <th>Flow_hot</th>\n",
              "    </tr>\n",
              "  </thead>\n",
              "  <tbody>\n",
              "    <tr>\n",
              "      <th>2018-08-01 00:00:00</th>\n",
              "      <td>16.784609</td>\n",
              "      <td>108.846831</td>\n",
              "      <td>126.606315</td>\n",
              "      <td>35.017099</td>\n",
              "      <td>28.095072</td>\n",
              "      <td>45.656160</td>\n",
              "    </tr>\n",
              "    <tr>\n",
              "      <th>2018-08-01 01:00:00</th>\n",
              "      <td>16.802548</td>\n",
              "      <td>109.051995</td>\n",
              "      <td>126.506479</td>\n",
              "      <td>34.962238</td>\n",
              "      <td>27.750480</td>\n",
              "      <td>45.521006</td>\n",
              "    </tr>\n",
              "    <tr>\n",
              "      <th>2018-08-01 02:00:00</th>\n",
              "      <td>16.796142</td>\n",
              "      <td>108.922387</td>\n",
              "      <td>126.460531</td>\n",
              "      <td>35.020834</td>\n",
              "      <td>27.937484</td>\n",
              "      <td>45.665944</td>\n",
              "    </tr>\n",
              "    <tr>\n",
              "      <th>2018-08-01 03:00:00</th>\n",
              "      <td>16.793055</td>\n",
              "      <td>109.171361</td>\n",
              "      <td>126.621469</td>\n",
              "      <td>34.990039</td>\n",
              "      <td>27.596311</td>\n",
              "      <td>45.313558</td>\n",
              "    </tr>\n",
              "    <tr>\n",
              "      <th>2018-08-01 04:00:00</th>\n",
              "      <td>16.800542</td>\n",
              "      <td>109.132157</td>\n",
              "      <td>126.479283</td>\n",
              "      <td>34.996638</td>\n",
              "      <td>27.622335</td>\n",
              "      <td>45.453893</td>\n",
              "    </tr>\n",
              "  </tbody>\n",
              "</table>\n",
              "</div>"
            ],
            "text/plain": [
              "                     T_cold_IN  T_cold_OUT    T_hot_IN  T_hot_OUT  Flow_cold  \\\n",
              "2018-08-01 00:00:00  16.784609  108.846831  126.606315  35.017099  28.095072   \n",
              "2018-08-01 01:00:00  16.802548  109.051995  126.506479  34.962238  27.750480   \n",
              "2018-08-01 02:00:00  16.796142  108.922387  126.460531  35.020834  27.937484   \n",
              "2018-08-01 03:00:00  16.793055  109.171361  126.621469  34.990039  27.596311   \n",
              "2018-08-01 04:00:00  16.800542  109.132157  126.479283  34.996638  27.622335   \n",
              "\n",
              "                      Flow_hot  \n",
              "2018-08-01 00:00:00  45.656160  \n",
              "2018-08-01 01:00:00  45.521006  \n",
              "2018-08-01 02:00:00  45.665944  \n",
              "2018-08-01 03:00:00  45.313558  \n",
              "2018-08-01 04:00:00  45.453893  "
            ]
          },
          "execution_count": 28,
          "metadata": {},
          "output_type": "execute_result"
        }
      ],
      "source": [
        "df.head()"
      ]
    },
    {
      "cell_type": "markdown",
      "metadata": {
        "id": "_r-j4muICSxI"
      },
      "source": [
        "Let's create the function for Thermal Resistance Calculation TR = A * F * LMTD/Q"
      ]
    },
    {
      "cell_type": "markdown",
      "metadata": {
        "id": "c5rymNPzDJp-"
      },
      "source": [
        "where A=Area, F= Correction Factor, LMTD - Log Mean Temperature Difference,\n",
        "Q - Heat Transfer Rate"
      ]
    },
    {
      "cell_type": "markdown",
      "metadata": {
        "id": "e_MLk_dODjO4"
      },
      "source": [
        "LMTD = ((T_hot_IN-T_cold_OUT)-(T_hot_OUT-T_cold_IN))/(log((T_hot_IN-T_cold_OUT)/(T_hot_OUT-T_cold_IN)))"
      ]
    },
    {
      "cell_type": "markdown",
      "metadata": {
        "id": "49b6CrGLDyig"
      },
      "source": [
        "Q = Flow_hot * Cp_hot *(T_hot_IN-T_hot_OUT)"
      ]
    },
    {
      "cell_type": "markdown",
      "metadata": {
        "id": "DKrwuvOAFOjf"
      },
      "source": [
        "Let's implement these formulaes in a function"
      ]
    },
    {
      "cell_type": "code",
      "execution_count": 29,
      "metadata": {
        "id": "LaKptl3n2U3w"
      },
      "outputs": [],
      "source": [
        "from math import log"
      ]
    },
    {
      "cell_type": "code",
      "execution_count": 30,
      "metadata": {
        "id": "oa0cQ9o-2XcB"
      },
      "outputs": [],
      "source": [
        "def thermal_resistance(x):\n",
        "    '''Function to calculate Thermal Resistance'''\n",
        "    # Some constants like Correction factor, Area and Cp values\n",
        "    F = 0.8\n",
        "    A = 1.0\n",
        "    Cp_hot = 2.4\n",
        "    # Calculate the cross temperature differences\n",
        "    x['dT1'] = abs(x['T_hot_IN'] - x['T_cold_OUT'])\n",
        "    x['dT2'] = abs(x['T_hot_OUT'] - x['T_cold_IN'])\n",
        "    # Calculate the numerator and denominator for the thermal resistance calculation\n",
        "    temp1 = A*F*(x['dT1']-x['dT2'])/log(x['dT1']/x['dT2'])\n",
        "    temp2 = x['Flow_hot']*Cp_hot*(x['T_hot_IN']-x['T_hot_OUT'])\n",
        "    TR = temp1/temp2\n",
        "    return TR"
      ]
    },
    {
      "cell_type": "code",
      "execution_count": 31,
      "metadata": {
        "id": "1iLXaL492Z62"
      },
      "outputs": [],
      "source": [
        "df['TR'] = df.apply(lambda x:thermal_resistance(x),axis=1)"
      ]
    },
    {
      "cell_type": "code",
      "execution_count": 32,
      "metadata": {
        "colab": {
          "base_uri": "https://localhost:8080/",
          "height": 206
        },
        "id": "xhKL0WsL2c8c",
        "outputId": "d84bad08-0316-420e-ab79-cccc1fea6f43"
      },
      "outputs": [
        {
          "data": {
            "text/html": [
              "<div>\n",
              "<style scoped>\n",
              "    .dataframe tbody tr th:only-of-type {\n",
              "        vertical-align: middle;\n",
              "    }\n",
              "\n",
              "    .dataframe tbody tr th {\n",
              "        vertical-align: top;\n",
              "    }\n",
              "\n",
              "    .dataframe thead th {\n",
              "        text-align: right;\n",
              "    }\n",
              "</style>\n",
              "<table border=\"1\" class=\"dataframe\">\n",
              "  <thead>\n",
              "    <tr style=\"text-align: right;\">\n",
              "      <th></th>\n",
              "      <th>T_cold_IN</th>\n",
              "      <th>T_cold_OUT</th>\n",
              "      <th>T_hot_IN</th>\n",
              "      <th>T_hot_OUT</th>\n",
              "      <th>Flow_cold</th>\n",
              "      <th>Flow_hot</th>\n",
              "      <th>TR</th>\n",
              "    </tr>\n",
              "  </thead>\n",
              "  <tbody>\n",
              "    <tr>\n",
              "      <th>2018-08-01 00:00:00</th>\n",
              "      <td>16.784609</td>\n",
              "      <td>108.846831</td>\n",
              "      <td>126.606315</td>\n",
              "      <td>35.017099</td>\n",
              "      <td>28.095072</td>\n",
              "      <td>45.656160</td>\n",
              "      <td>0.001434</td>\n",
              "    </tr>\n",
              "    <tr>\n",
              "      <th>2018-08-01 01:00:00</th>\n",
              "      <td>16.802548</td>\n",
              "      <td>109.051995</td>\n",
              "      <td>126.506479</td>\n",
              "      <td>34.962238</td>\n",
              "      <td>27.750480</td>\n",
              "      <td>45.521006</td>\n",
              "      <td>0.001424</td>\n",
              "    </tr>\n",
              "    <tr>\n",
              "      <th>2018-08-01 02:00:00</th>\n",
              "      <td>16.796142</td>\n",
              "      <td>108.922387</td>\n",
              "      <td>126.460531</td>\n",
              "      <td>35.020834</td>\n",
              "      <td>27.937484</td>\n",
              "      <td>45.665944</td>\n",
              "      <td>0.001427</td>\n",
              "    </tr>\n",
              "    <tr>\n",
              "      <th>2018-08-01 03:00:00</th>\n",
              "      <td>16.793055</td>\n",
              "      <td>109.171361</td>\n",
              "      <td>126.621469</td>\n",
              "      <td>34.990039</td>\n",
              "      <td>27.596311</td>\n",
              "      <td>45.313558</td>\n",
              "      <td>0.001431</td>\n",
              "    </tr>\n",
              "    <tr>\n",
              "      <th>2018-08-01 04:00:00</th>\n",
              "      <td>16.800542</td>\n",
              "      <td>109.132157</td>\n",
              "      <td>126.479283</td>\n",
              "      <td>34.996638</td>\n",
              "      <td>27.622335</td>\n",
              "      <td>45.453893</td>\n",
              "      <td>0.001424</td>\n",
              "    </tr>\n",
              "  </tbody>\n",
              "</table>\n",
              "</div>"
            ],
            "text/plain": [
              "                     T_cold_IN  T_cold_OUT    T_hot_IN  T_hot_OUT  Flow_cold  \\\n",
              "2018-08-01 00:00:00  16.784609  108.846831  126.606315  35.017099  28.095072   \n",
              "2018-08-01 01:00:00  16.802548  109.051995  126.506479  34.962238  27.750480   \n",
              "2018-08-01 02:00:00  16.796142  108.922387  126.460531  35.020834  27.937484   \n",
              "2018-08-01 03:00:00  16.793055  109.171361  126.621469  34.990039  27.596311   \n",
              "2018-08-01 04:00:00  16.800542  109.132157  126.479283  34.996638  27.622335   \n",
              "\n",
              "                      Flow_hot        TR  \n",
              "2018-08-01 00:00:00  45.656160  0.001434  \n",
              "2018-08-01 01:00:00  45.521006  0.001424  \n",
              "2018-08-01 02:00:00  45.665944  0.001427  \n",
              "2018-08-01 03:00:00  45.313558  0.001431  \n",
              "2018-08-01 04:00:00  45.453893  0.001424  "
            ]
          },
          "execution_count": 32,
          "metadata": {},
          "output_type": "execute_result"
        }
      ],
      "source": [
        "df.head()"
      ]
    },
    {
      "cell_type": "markdown",
      "metadata": {
        "id": "jCDa8witE4nW"
      },
      "source": [
        "Now this calculation result is only available in this notebook, and each time  we need the value of Thermal Resitance, we'll have to fecth the data and run the above code manually. In the case, we want to presist the result of this calculation, we need to save this in CDF."
      ]
    },
    {
      "cell_type": "markdown",
      "metadata": {
        "id": "tWhHiSgFFOaO"
      },
      "source": [
        "Cognite functions can be a solution for this type of calculation and saving results in CDF to be accessible later use or in other applications. "
      ]
    },
    {
      "cell_type": "markdown",
      "metadata": {
        "id": "h807G_yG_Kcc"
      },
      "source": [
        "## Cognite functions\n",
        "There are multiple ways to create and deploy cognite functions, as shown in following sections:\n"
      ]
    },
    {
      "cell_type": "markdown",
      "metadata": {
        "id": "PB4jg_rdc1kP"
      },
      "source": [
        "## Method 1: Using Cognite Python SDK"
      ]
    },
    {
      "cell_type": "markdown",
      "metadata": {
        "id": "hWRpHx-LeJMq"
      },
      "source": [
        "As shown in the Examples https://github.com/cognitedata/cognite-function-examples/blob/main/examples/01-creating-a-function-from-a-notebook/create-cognite-function.ipynb , we need to create a function called \"handle\" and put the required calculation code/steps inside it."
      ]
    },
    {
      "cell_type": "code",
      "execution_count": 37,
      "metadata": {
        "id": "dupPaqz_dSGQ"
      },
      "outputs": [],
      "source": [
        "def handle(client, data=None, secrets=None, function_call_info=None):\n",
        "    \"\"\"Handler Function to be Run/Deployed\n",
        "    Args:\n",
        "        client : Cognite Client (not needed, it's availble to it, when deployed)\n",
        "        data : data needed by function\n",
        "        secrets : Any secrets it needs\n",
        "        function_call_info : any other information about function\n",
        "\n",
        "    Returns:\n",
        "        response : response or result from the function \n",
        "    \"\"\"\n",
        "    ts_exids = ['pi:163657','pi:163658','pi:160887','pi:191092','pi:163374','pi:160184']\n",
        "    column_names = [\"T_cold_IN\",\"T_cold_OUT\",\"T_hot_IN\",\"T_hot_OUT\",\"Flow_cold\",\"Flow_hot\"]\n",
        "    # Retrieve the data\n",
        "    start_date = datetime.datetime(2018, 8, 1)\n",
        "    end_date = start_date + timedelta(days=10)\n",
        "    df = client.datapoints.retrieve_dataframe(external_id=ts_exids,\n",
        "                                                        aggregates=['average'],\n",
        "                                                        granularity='6h',\n",
        "                                                        start=start_date,\n",
        "                                                        end=end_date,\n",
        "                                                        include_aggregate_name=False\n",
        "                                                        )\n",
        "    df.fillna(method=\"ffill\", inplace=True)\n",
        "    df.columns = column_names\n",
        "    # Calculate the Thermal resistance\n",
        "    df['TR'] = df.apply(lambda x:thermal_resistance(x),axis=1)\n",
        "    # Return the result as json\n",
        "    result = df[['TR']].to_json()\n",
        "    return result"
      ]
    },
    {
      "cell_type": "markdown",
      "metadata": {
        "id": "Kxl1CALCiNJg"
      },
      "source": [
        "#### Testing the function locally\n",
        "Before we deploy this Python-function as a Cognite Function, we can verify that it works locally by passing in our previously instantiated CogniteClient and a data-dictionary.\n",
        "\n"
      ]
    },
    {
      "cell_type": "code",
      "execution_count": 38,
      "metadata": {
        "colab": {
          "base_uri": "https://localhost:8080/",
          "height": 123
        },
        "id": "GroS1jluilJA",
        "outputId": "331c9551-d2cf-4ad0-a4c0-374b0e1c41b5"
      },
      "outputs": [
        {
          "data": {
            "text/plain": [
              "'{\"TR\":{\"1533081600000\":0.0000003966,\"1533103200000\":0.0000003973,\"1533124800000\":0.0000003986,\"1533146400000\":0.000000404,\"1533168000000\":0.0000004002,\"1533189600000\":0.0000003968,\"1533211200000\":0.0000003998,\"1533232800000\":0.0000003995,\"1533254400000\":0.0000003981,\"1533276000000\":0.0000004014,\"1533297600000\":0.0000004022,\"1533319200000\":0.0000003718,\"1533340800000\":0.0000003796,\"1533362400000\":0.0000003757,\"1533384000000\":0.0000003942,\"1533405600000\":0.0000004016,\"1533427200000\":0.0000003976,\"1533448800000\":0.000000398,\"1533470400000\":0.0000004012,\"1533492000000\":0.0000003983,\"1533513600000\":0.0000003908,\"1533535200000\":0.0000003976,\"1533556800000\":0.0000003976,\"1533578400000\":0.0000004013,\"1533600000000\":0.0000003962,\"1533621600000\":0.0000003976,\"1533643200000\":0.0000003979,\"1533664800000\":0.0000003988,\"1533686400000\":0.0000004085,\"1533708000000\":0.0000004102,\"1533729600000\":0.0000004098,\"1533751200000\":0.0000003997,\"1533772800000\":0.0000004035,\"1533794400000\":0.0000004058,\"1533816000000\":0.0000004066,\"1533837600000\":0.0000004029,\"1533859200000\":0.0000004031,\"1533880800000\":0.0000004071,\"1533902400000\":0.0000004024,\"1533924000000\":0.0000004041}}'"
            ]
          },
          "execution_count": 38,
          "metadata": {},
          "output_type": "execute_result"
        }
      ],
      "source": [
        "handle(client)"
      ]
    },
    {
      "cell_type": "markdown",
      "metadata": {
        "id": "AOMS0_mEjcbx"
      },
      "source": [
        "#### Deploying function to CDF"
      ]
    },
    {
      "cell_type": "markdown",
      "metadata": {},
      "source": [
        "If the calculation is simple and basic, doesn't need any external dependencies, it can be created & deployed directly using python-sdk, by passing handle function as a parameter ( for function_handle) in functions.create command, as shown below."
      ]
    },
    {
      "cell_type": "code",
      "execution_count": 19,
      "metadata": {
        "id": "LTYYK1GLdoXC"
      },
      "outputs": [],
      "source": [
        "function_external_id = \"hx_thermal_perf\"\n",
        "function_name = \"Thermal Performance Calculation\""
      ]
    },
    {
      "cell_type": "code",
      "execution_count": 23,
      "metadata": {
        "id": "fBEyu2SidoXC"
      },
      "outputs": [],
      "source": [
        "# Delete If the same function exists already\n",
        "# client.functions.delete(external_id=function_external_id)"
      ]
    },
    {
      "cell_type": "code",
      "execution_count": 24,
      "metadata": {
        "id": "bqGp0i34doXD"
      },
      "outputs": [],
      "source": [
        "function = client.functions.create(\n",
        "    name=function_name,\n",
        "    external_id=function_external_id,\n",
        "    function_handle=handle,\n",
        "    description=\"Function to Calculate Thermal Performance of Discharge Coolers\",\n",
        "    runtime=\"py39\")"
      ]
    },
    {
      "cell_type": "markdown",
      "metadata": {
        "id": "PR0cdvLMj4kk"
      },
      "source": [
        "##### Checking the Status of Deployment\n",
        "This might take few minutes, before function is ready to run."
      ]
    },
    {
      "cell_type": "code",
      "execution_count": 25,
      "metadata": {
        "colab": {
          "base_uri": "https://localhost:8080/"
        },
        "id": "EV_-_kFsdoXD",
        "outputId": "14cf2611-b63f-4c0c-d9fd-cb62e3ee2600"
      },
      "outputs": [
        {
          "name": "stdout",
          "output_type": "stream",
          "text": [
            "Function is successfully deployed\n"
          ]
        }
      ],
      "source": [
        "# Repeat until status is ready\n",
        "while function.status != \"Ready\":\n",
        "    function.update()\n",
        "\n",
        "    if function.status == \"Failed\":\n",
        "        print(\"Failed to deploy function\")\n",
        "        break\n",
        "else:\n",
        "    print(\"Function is successfully deployed\")"
      ]
    },
    {
      "cell_type": "markdown",
      "metadata": {
        "id": "Sf2JVib2kDyX"
      },
      "source": [
        "##### Calling the deployed function"
      ]
    },
    {
      "cell_type": "code",
      "execution_count": 26,
      "metadata": {
        "colab": {
          "base_uri": "https://localhost:8080/",
          "height": 206
        },
        "id": "_Wcu2SOOkIEV",
        "outputId": "2a434870-b7e2-4208-bd0b-53a1ff59eb34"
      },
      "outputs": [
        {
          "data": {
            "text/html": [
              "<div>\n",
              "<style scoped>\n",
              "    .dataframe tbody tr th:only-of-type {\n",
              "        vertical-align: middle;\n",
              "    }\n",
              "\n",
              "    .dataframe tbody tr th {\n",
              "        vertical-align: top;\n",
              "    }\n",
              "\n",
              "    .dataframe thead th {\n",
              "        text-align: right;\n",
              "    }\n",
              "</style>\n",
              "<table border=\"1\" class=\"dataframe\">\n",
              "  <thead>\n",
              "    <tr style=\"text-align: right;\">\n",
              "      <th></th>\n",
              "      <th>value</th>\n",
              "    </tr>\n",
              "  </thead>\n",
              "  <tbody>\n",
              "    <tr>\n",
              "      <th>id</th>\n",
              "      <td>1923092584087690</td>\n",
              "    </tr>\n",
              "    <tr>\n",
              "      <th>start_time</th>\n",
              "      <td>1658835059879</td>\n",
              "    </tr>\n",
              "    <tr>\n",
              "      <th>end_time</th>\n",
              "      <td>1658835064409</td>\n",
              "    </tr>\n",
              "    <tr>\n",
              "      <th>status</th>\n",
              "      <td>Failed</td>\n",
              "    </tr>\n",
              "    <tr>\n",
              "      <th>function_id</th>\n",
              "      <td>8002266153092455</td>\n",
              "    </tr>\n",
              "  </tbody>\n",
              "</table>\n",
              "</div>"
            ],
            "text/plain": [
              "<cognite.experimental.data_classes.functions.FunctionCall at 0x7f77443c5dc0>"
            ]
          },
          "execution_count": 26,
          "metadata": {},
          "output_type": "execute_result"
        }
      ],
      "source": [
        "call = function.call()\n",
        "call"
      ]
    },
    {
      "cell_type": "code",
      "execution_count": 27,
      "metadata": {
        "id": "4aOcWNYWkKuR"
      },
      "outputs": [],
      "source": [
        "call.get_response()"
      ]
    },
    {
      "cell_type": "code",
      "execution_count": 28,
      "metadata": {
        "colab": {
          "base_uri": "https://localhost:8080/",
          "height": 739
        },
        "id": "OzkqMb6kkLZS",
        "outputId": "db40a4f7-4084-4206-8363-101302178d62"
      },
      "outputs": [
        {
          "data": {
            "text/html": [
              "<div>\n",
              "<style scoped>\n",
              "    .dataframe tbody tr th:only-of-type {\n",
              "        vertical-align: middle;\n",
              "    }\n",
              "\n",
              "    .dataframe tbody tr th {\n",
              "        vertical-align: top;\n",
              "    }\n",
              "\n",
              "    .dataframe thead th {\n",
              "        text-align: right;\n",
              "    }\n",
              "</style>\n",
              "<table border=\"1\" class=\"dataframe\">\n",
              "  <thead>\n",
              "    <tr style=\"text-align: right;\">\n",
              "      <th></th>\n",
              "      <th>timestamp</th>\n",
              "      <th>message</th>\n",
              "    </tr>\n",
              "  </thead>\n",
              "  <tbody>\n",
              "    <tr>\n",
              "      <th>0</th>\n",
              "      <td>1658835063914</td>\n",
              "      <td>Traceback (most recent call last):</td>\n",
              "    </tr>\n",
              "    <tr>\n",
              "      <th>1</th>\n",
              "      <td>1658835063914</td>\n",
              "      <td>File \"/home/site/wwwroot/.python_packages/li...</td>\n",
              "    </tr>\n",
              "    <tr>\n",
              "      <th>2</th>\n",
              "      <td>1658835063914</td>\n",
              "      <td>return importlib.import_module(name)</td>\n",
              "    </tr>\n",
              "    <tr>\n",
              "      <th>3</th>\n",
              "      <td>1658835063914</td>\n",
              "      <td>File \"/usr/local/lib/python3.9/importlib/__i...</td>\n",
              "    </tr>\n",
              "    <tr>\n",
              "      <th>4</th>\n",
              "      <td>1658835063914</td>\n",
              "      <td>return _bootstrap._gcd_import(name[level:]...</td>\n",
              "    </tr>\n",
              "    <tr>\n",
              "      <th>5</th>\n",
              "      <td>1658835063914</td>\n",
              "      <td>File \"&lt;frozen importlib._bootstrap&gt;\", line 1...</td>\n",
              "    </tr>\n",
              "    <tr>\n",
              "      <th>6</th>\n",
              "      <td>1658835063914</td>\n",
              "      <td>File \"&lt;frozen importlib._bootstrap&gt;\", line 1...</td>\n",
              "    </tr>\n",
              "    <tr>\n",
              "      <th>7</th>\n",
              "      <td>1658835063914</td>\n",
              "      <td>File \"&lt;frozen importlib._bootstrap&gt;\", line 9...</td>\n",
              "    </tr>\n",
              "    <tr>\n",
              "      <th>8</th>\n",
              "      <td>1658835063914</td>\n",
              "      <td>ModuleNotFoundError: No module named 'pandas'</td>\n",
              "    </tr>\n",
              "    <tr>\n",
              "      <th>9</th>\n",
              "      <td>1658835063914</td>\n",
              "      <td>NaN</td>\n",
              "    </tr>\n",
              "    <tr>\n",
              "      <th>10</th>\n",
              "      <td>1658835063914</td>\n",
              "      <td>The above exception was the direct cause of th...</td>\n",
              "    </tr>\n",
              "    <tr>\n",
              "      <th>11</th>\n",
              "      <td>1658835063914</td>\n",
              "      <td>Traceback (most recent call last):</td>\n",
              "    </tr>\n",
              "    <tr>\n",
              "      <th>12</th>\n",
              "      <td>1658835063914</td>\n",
              "      <td>File \"/home/site/wwwroot/function/__init__.p...</td>\n",
              "    </tr>\n",
              "    <tr>\n",
              "      <th>13</th>\n",
              "      <td>1658835063914</td>\n",
              "      <td>result = handle(*function_argument_values)</td>\n",
              "    </tr>\n",
              "    <tr>\n",
              "      <th>14</th>\n",
              "      <td>1658835063914</td>\n",
              "      <td>File \"/home/site/wwwroot/function/handler.py...</td>\n",
              "    </tr>\n",
              "    <tr>\n",
              "      <th>15</th>\n",
              "      <td>1658835063914</td>\n",
              "      <td>df = client.datapoints.retrieve_dataframe(...</td>\n",
              "    </tr>\n",
              "    <tr>\n",
              "      <th>16</th>\n",
              "      <td>1658835063914</td>\n",
              "      <td>File \"/home/site/wwwroot/.python_packages/li...</td>\n",
              "    </tr>\n",
              "    <tr>\n",
              "      <th>17</th>\n",
              "      <td>1658835063914</td>\n",
              "      <td>pd = cast(Any, utils._auxiliary.local_impo...</td>\n",
              "    </tr>\n",
              "    <tr>\n",
              "      <th>18</th>\n",
              "      <td>1658835063914</td>\n",
              "      <td>File \"/home/site/wwwroot/.python_packages/li...</td>\n",
              "    </tr>\n",
              "    <tr>\n",
              "      <th>19</th>\n",
              "      <td>1658835063914</td>\n",
              "      <td>raise CogniteImportError(name.split(\".\")[0...</td>\n",
              "    </tr>\n",
              "    <tr>\n",
              "      <th>20</th>\n",
              "      <td>1658835063914</td>\n",
              "      <td>cognite.client.exceptions.CogniteImportError: ...</td>\n",
              "    </tr>\n",
              "    <tr>\n",
              "      <th>21</th>\n",
              "      <td>1658835063914</td>\n",
              "      <td>MemoryError: The function ran out of memory.</td>\n",
              "    </tr>\n",
              "  </tbody>\n",
              "</table>\n",
              "</div>"
            ],
            "text/plain": [
              "FunctionCallLog([<cognite.experimental.data_classes.functions.FunctionCallLogEntry at 0x7f774443dd00>,\n",
              "                 <cognite.experimental.data_classes.functions.FunctionCallLogEntry at 0x7f774443d250>,\n",
              "                 <cognite.experimental.data_classes.functions.FunctionCallLogEntry at 0x7f774443d2b0>,\n",
              "                 <cognite.experimental.data_classes.functions.FunctionCallLogEntry at 0x7f774443d190>,\n",
              "                 <cognite.experimental.data_classes.functions.FunctionCallLogEntry at 0x7f774443dac0>,\n",
              "                 <cognite.experimental.data_classes.functions.FunctionCallLogEntry at 0x7f774443dbb0>,\n",
              "                 <cognite.experimental.data_classes.functions.FunctionCallLogEntry at 0x7f77750fdf40>,\n",
              "                 <cognite.experimental.data_classes.functions.FunctionCallLogEntry at 0x7f77750fd640>,\n",
              "                 <cognite.experimental.data_classes.functions.FunctionCallLogEntry at 0x7f77750fdcd0>,\n",
              "                 <cognite.experimental.data_classes.functions.FunctionCallLogEntry at 0x7f77750fd3d0>,\n",
              "                 <cognite.experimental.data_classes.functions.FunctionCallLogEntry at 0x7f77750fd3a0>,\n",
              "                 <cognite.experimental.data_classes.functions.FunctionCallLogEntry at 0x7f77750fd790>,\n",
              "                 <cognite.experimental.data_classes.functions.FunctionCallLogEntry at 0x7f77750fd7c0>,\n",
              "                 <cognite.experimental.data_classes.functions.FunctionCallLogEntry at 0x7f77750fda90>,\n",
              "                 <cognite.experimental.data_classes.functions.FunctionCallLogEntry at 0x7f77750fdc70>,\n",
              "                 <cognite.experimental.data_classes.functions.FunctionCallLogEntry at 0x7f77750fdd60>,\n",
              "                 <cognite.experimental.data_classes.functions.FunctionCallLogEntry at 0x7f77750fdb20>,\n",
              "                 <cognite.experimental.data_classes.functions.FunctionCallLogEntry at 0x7f7784bb9d90>,\n",
              "                 <cognite.experimental.data_classes.functions.FunctionCallLogEntry at 0x7f77443d8220>,\n",
              "                 <cognite.experimental.data_classes.functions.FunctionCallLogEntry at 0x7f77443d8ac0>,\n",
              "                 <cognite.experimental.data_classes.functions.FunctionCallLogEntry at 0x7f77443d82b0>,\n",
              "                 <cognite.experimental.data_classes.functions.FunctionCallLogEntry at 0x7f77443d8430>])"
            ]
          },
          "execution_count": 28,
          "metadata": {},
          "output_type": "execute_result"
        }
      ],
      "source": [
        "call.get_logs()"
      ]
    },
    {
      "cell_type": "markdown",
      "metadata": {},
      "source": [
        "As logs say \"ModuleNotFoundError: No module named 'pandas'\" , we need to fix the missing packages issue. Since our function isn't a basic one, it needs pandas package & cognite-sdk."
      ]
    },
    {
      "cell_type": "markdown",
      "metadata": {
        "id": "HHC1Nc0QIPuX"
      },
      "source": [
        "#### Adding Missing Packages in the function"
      ]
    },
    {
      "cell_type": "markdown",
      "metadata": {
        "id": "fyyDFfrJI2Fp"
      },
      "source": [
        "If our function needs additional packages, We have to create the function using a folder containing handler.py and requirements.txt file."
      ]
    },
    {
      "cell_type": "markdown",
      "metadata": {},
      "source": [
        "Create a folder called \"hx-thermal-resistance\""
      ]
    },
    {
      "cell_type": "code",
      "execution_count": 29,
      "metadata": {},
      "outputs": [],
      "source": [
        "# Already created and added in the repository, so this command not required to run\n",
        "# ! mkdir ../hx-thermal-resistance"
      ]
    },
    {
      "cell_type": "code",
      "execution_count": 30,
      "metadata": {
        "id": "u1iEIRWKIV7j"
      },
      "outputs": [],
      "source": [
        "# First let's delete the function as we'll re-create it\n",
        "client.functions.delete(external_id=function_external_id)"
      ]
    },
    {
      "cell_type": "markdown",
      "metadata": {},
      "source": [
        "Create a file \"handler.py\" and in this file put all the code shown in below cell ( which is the complete code for the function we need to create )"
      ]
    },
    {
      "cell_type": "code",
      "execution_count": 31,
      "metadata": {
        "id": "Zd3qwuiOIhoS"
      },
      "outputs": [],
      "source": [
        "from math import log\n",
        "import datetime\n",
        "from datetime import timedelta\n",
        "\n",
        "def thermal_resistance(x):\n",
        "    '''Function to calculate Thermal Resistance'''\n",
        "    # Some constants like Correction factor, Area and Cp values\n",
        "    F = 0.8\n",
        "    A = 1.0\n",
        "    Cp_hot = 2.4\n",
        "    # Calculate the cross temperature differences\n",
        "    x['dT1'] = x['T_hot_IN'] - x['T_cold_OUT']\n",
        "    x['dT2'] = x['T_hot_OUT'] - x['T_cold_IN']\n",
        "    # Calculate the numerator and denominator for the thermal resistance calculation\n",
        "    temp1 = A*F*(x['dT1']-x['dT2'])/log(x['dT1']/x['dT2'])\n",
        "    temp2 = x['Flow_hot']*Cp_hot*(x['T_hot_IN']-x['T_hot_OUT'])\n",
        "    TR = temp1/temp2\n",
        "    return TR\n",
        "\n",
        "\n",
        "def handle(client,data=None, secrets=None, function_call_info=None):\n",
        "    \"\"\"Handler Function to be Run/Deployed\n",
        "    Args:\n",
        "        client : Cognite Client (not needed, it's availble to it, when deployed)\n",
        "        data : data needed by function\n",
        "        secrets : Any secrets it needs\n",
        "        function_call_info : any other information about function\n",
        "\n",
        "    Returns:\n",
        "        response : response or result from the function \n",
        "    \"\"\"\n",
        "    ts_exids = ['pi:163657','pi:163658','pi:160887','pi:191092','pi:163374','pi:160184']\n",
        "    column_names = [\"T_cold_IN\",\"T_cold_OUT\",\"T_hot_IN\",\"T_hot_OUT\",\"Flow_cold\",\"Flow_hot\"]\n",
        "    # Retrieve the data\n",
        "    start_date = datetime.datetime(2018, 8, 1)\n",
        "    end_date = start_date + timedelta(days=10)\n",
        "    df = client.datapoints.retrieve_dataframe(external_id=ts_exids,\n",
        "                                                        aggregates=['average'],\n",
        "                                                        granularity='6h',\n",
        "                                                        start=start_date,\n",
        "                                                        end=end_date,\n",
        "                                                        include_aggregate_name=False\n",
        "                                                        )\n",
        "    df.fillna(method=\"ffill\", inplace=True)\n",
        "    df.columns = column_names\n",
        "    # Calculate the Thermal resistance\n",
        "    df['TR'] = df.apply(lambda x:thermal_resistance(x),axis=1)\n",
        "    # Return the result as json\n",
        "    result = df[['TR']].to_json()\n",
        "    return result"
      ]
    },
    {
      "cell_type": "markdown",
      "metadata": {},
      "source": [
        "After that create a file \"requirements.txt\" and put the required packages and their versions in this file. e.g. cognite-sdk, pandas etc"
      ]
    },
    {
      "cell_type": "markdown",
      "metadata": {},
      "source": [
        "#### Create Cognite Function from a Folder"
      ]
    },
    {
      "cell_type": "code",
      "execution_count": 32,
      "metadata": {},
      "outputs": [],
      "source": [
        "function = client.functions.create(\n",
        "    name=function_name,\n",
        "    external_id=function_external_id,\n",
        "    folder=\"../hx-thermal-resistance/\",  # We will upload this directory\n",
        "    description=\"Function to Calculate Thermal Performance of Discharge Coolers\",\n",
        "    owner=\"Choukha Ram\",\n",
        ")"
      ]
    },
    {
      "cell_type": "markdown",
      "metadata": {},
      "source": [
        "Check the status and make a call to the function"
      ]
    },
    {
      "cell_type": "code",
      "execution_count": 33,
      "metadata": {},
      "outputs": [
        {
          "name": "stdout",
          "output_type": "stream",
          "text": [
            "Function is successfully deployed\n"
          ]
        }
      ],
      "source": [
        "# Repeat until status is ready\n",
        "while function.status != \"Ready\":\n",
        "    function.update()\n",
        "\n",
        "    if function.status == \"Failed\":\n",
        "        print(\"Failed to deploy function\")\n",
        "        break\n",
        "else:\n",
        "    print(\"Function is successfully deployed\")"
      ]
    },
    {
      "cell_type": "code",
      "execution_count": 34,
      "metadata": {},
      "outputs": [
        {
          "data": {
            "text/html": [
              "<div>\n",
              "<style scoped>\n",
              "    .dataframe tbody tr th:only-of-type {\n",
              "        vertical-align: middle;\n",
              "    }\n",
              "\n",
              "    .dataframe tbody tr th {\n",
              "        vertical-align: top;\n",
              "    }\n",
              "\n",
              "    .dataframe thead th {\n",
              "        text-align: right;\n",
              "    }\n",
              "</style>\n",
              "<table border=\"1\" class=\"dataframe\">\n",
              "  <thead>\n",
              "    <tr style=\"text-align: right;\">\n",
              "      <th></th>\n",
              "      <th>value</th>\n",
              "    </tr>\n",
              "  </thead>\n",
              "  <tbody>\n",
              "    <tr>\n",
              "      <th>id</th>\n",
              "      <td>2162238284988694</td>\n",
              "    </tr>\n",
              "    <tr>\n",
              "      <th>start_time</th>\n",
              "      <td>1658835672147</td>\n",
              "    </tr>\n",
              "    <tr>\n",
              "      <th>end_time</th>\n",
              "      <td>1658835682265</td>\n",
              "    </tr>\n",
              "    <tr>\n",
              "      <th>status</th>\n",
              "      <td>Completed</td>\n",
              "    </tr>\n",
              "    <tr>\n",
              "      <th>function_id</th>\n",
              "      <td>5143717420027456</td>\n",
              "    </tr>\n",
              "  </tbody>\n",
              "</table>\n",
              "</div>"
            ],
            "text/plain": [
              "<cognite.experimental.data_classes.functions.FunctionCall at 0x7f774443d8b0>"
            ]
          },
          "execution_count": 34,
          "metadata": {},
          "output_type": "execute_result"
        }
      ],
      "source": [
        "call = function.call()\n",
        "call"
      ]
    },
    {
      "cell_type": "code",
      "execution_count": 35,
      "metadata": {},
      "outputs": [
        {
          "data": {
            "text/plain": [
              "'{\"TR\":{\"1652788800000\":0.0000003761,\"1652792400000\":0.0000003655,\"1652796000000\":0.0000003652,\"1652799600000\":0.0000003719,\"1652803200000\":0.0000003629,\"1652806800000\":0.0000003615,\"1652810400000\":0.0000003595,\"1652814000000\":0.0000003556,\"1652817600000\":0.00000036,\"1652821200000\":0.0000003571,\"1652824800000\":0.0000003541,\"1652828400000\":0.0000003558,\"1652832000000\":0.0000003533,\"1652835600000\":0.0000003538,\"1652839200000\":0.0000003528,\"1652842800000\":0.0000003525,\"1652846400000\":0.0000003545,\"1652850000000\":0.0000003532,\"1652853600000\":0.0000003599,\"1652857200000\":0.0000003687,\"1652860800000\":0.0000003778,\"1652864400000\":0.0000003752,\"1652868000000\":0.0000003843,\"1652871600000\":0.0000003841}}'"
            ]
          },
          "execution_count": 35,
          "metadata": {},
          "output_type": "execute_result"
        }
      ],
      "source": [
        "call.get_response()"
      ]
    },
    {
      "cell_type": "markdown",
      "metadata": {
        "id": "Hzp7446Zcp7P"
      },
      "source": [
        "## Method 2: Using Cognite Data Fusion UI\n",
        "Download & Zip the handler.py and requirements.txt files and upload the zipped file in the CDF UI. (https://cognite-learn.fusion.cognite.com/ds-basics/functions?cluster=westeurope-1.cognitedata.com&env=westeurope-1)"
      ]
    },
    {
      "cell_type": "markdown",
      "metadata": {},
      "source": [
        "<img src=\"../images/cognite-functions-via-UI.jpg\">"
      ]
    },
    {
      "cell_type": "markdown",
      "metadata": {
        "id": "_Yzgqu5WSGc2"
      },
      "source": [
        "### Save the calculation result using Cognite Functions"
      ]
    },
    {
      "cell_type": "markdown",
      "metadata": {
        "id": "dz4haFxSSMo6"
      },
      "source": [
        "In the cognite functions, we can also persist the result into a time series or other resource type suitable for the result.\n",
        "Let's add some extra lines of code to save the calculated values in a time series."
      ]
    },
    {
      "cell_type": "code",
      "execution_count": null,
      "metadata": {
        "id": "cufPfch_GMP6"
      },
      "outputs": [],
      "source": [
        "from cognite.client.data_classes import TimeSeries\n",
        "from math import log\n",
        "import datetime\n",
        "from datetime import timedelta\n",
        "\n",
        "def thermal_resistance(x):\n",
        "    '''Function to calculate Thermal Resistance'''\n",
        "    # Some constants like Correction factor, Area and Cp values\n",
        "    F = 0.8\n",
        "    A = 1.0\n",
        "    Cp_hot = 2.4\n",
        "    Cp_cold\t= 4.18\n",
        "    # Calculate the cross temperature differences\n",
        "    x['dT1'] = x['T_hot_IN'] - x['T_cold_OUT']\n",
        "    x['dT2'] = x['T_hot_OUT'] - x['T_cold_IN']\n",
        "    # Calculate the numerator and denominator for the thermal resistance calculation\n",
        "    temp1 = A*F*(x['dT1']-x['dT2'])/log(x['dT1']/x['dT2'])\n",
        "    temp2 = x['Flow_hot']*Cp_hot*(x['T_hot_IN']-x['T_hot_OUT'])\n",
        "    tr = temp1/temp2\n",
        "    return tr\n",
        "\n",
        "def create_and_save_time_series_data(client,data):\n",
        "  '''Function to create the time series and save the data'''\n",
        "  asset_id = 7640884189698369 # 23-HA-9114 Asset\n",
        "  ts_external_id = \"hx_thermal_resistance\"\n",
        "  cdf_ts = client.time_series.retrieve(external_id=ts_external_id)\n",
        "  if cdf_ts is None:\n",
        "    ts = TimeSeries(external_id=ts_external_id,name=\"Thermal Resistance\", asset_id = asset_id, unit = 'm2K/W')\n",
        "    client.time_series.create(ts)\n",
        "    print(\"Created time series\")\n",
        "  else:\n",
        "    print(\"Existing Time Series\")\n",
        "  dps = []\n",
        "  for index, r in data.iterrows():\n",
        "      dps= dps+[{\"timestamp\": r.name, \"value\": r['TR']}]\n",
        "  try:\n",
        "      client.datapoints.insert(datapoints = dps,external_id = ts_external_id)\n",
        "  except:\n",
        "      pass\n",
        "\n",
        "\n",
        "\n",
        "def handle(client, data=None, secrets=None, function_call_info=None):\n",
        "    \"\"\"Handler Function to be Run/Deployed\n",
        "    Args:\n",
        "        client : Cognite Client (not needed, it's availble to it, when deployed)\n",
        "        data : data needed by function\n",
        "        secrets : Any secrets it needs\n",
        "        function_call_info : any other information about function\n",
        "\n",
        "    Returns:\n",
        "        response : response or result from the function \n",
        "    \"\"\"\n",
        "    ts_exids = ['pi:163657','pi:163658','pi:160887','pi:191092','pi:163374','pi:160184']\n",
        "    column_names = [\"T_cold_IN\",\"T_cold_OUT\",\"T_hot_IN\",\"T_hot_OUT\",\"Flow_cold\",\"Flow_hot\"]\n",
        "    # Retrieve the data\n",
        "    start_date = datetime.datetime(2018, 8, 1)\n",
        "    end_date = start_date + timedelta(days=30)\n",
        "    df = client.datapoints.retrieve_dataframe(external_id=ts_exids,\n",
        "                                                        aggregates=['average'],\n",
        "                                                        granularity='1h',\n",
        "                                                        start=start_date,\n",
        "                                                        end=end_date,\n",
        "                                                        include_aggregate_name=False\n",
        "                                                        )\n",
        "    df.fillna(method=\"ffill\", inplace=True)\n",
        "    df.columns = column_names\n",
        "    # Calculate the Thermal resistance\n",
        "    df['TR'] = df.apply(lambda x:thermal_resistance(x),axis=1)\n",
        "    # Save the Result as time series\n",
        "    create_and_save_time_series_data(client,df[['TR']])\n",
        "    # Return the result as json\n",
        "    result = df[['TR']].to_json()\n",
        "    return result"
      ]
    },
    {
      "cell_type": "markdown",
      "metadata": {},
      "source": [
        "Update the handler.py file with the above code and deploy the function again to see the persisted result in a time series."
      ]
    },
    {
      "cell_type": "markdown",
      "metadata": {},
      "source": [
        "We can create a new folder for this function & put the updated handler.py file and requirements.txt in it."
      ]
    },
    {
      "cell_type": "code",
      "execution_count": 42,
      "metadata": {},
      "outputs": [],
      "source": [
        "#! mkdir ../hx-thermal-resistance-save-calc "
      ]
    },
    {
      "cell_type": "code",
      "execution_count": 3,
      "metadata": {},
      "outputs": [],
      "source": [
        "function = client.functions.create(\n",
        "    name=\"Thermal Performance Calculation and Save Function\",\n",
        "    external_id=\"thermal-perf-save-calc\",\n",
        "    folder=\"../hx-thermal-resistance-save-calc/\",\n",
        "    description=\"Function to Calculate & Save Thermal Performance of Discharge Coolers\",\n",
        "    owner=\"Choukha Ram\"\n",
        "    )\n",
        "# Note : if this cell is giving you errors :\n",
        "# Just restart the notebook, create the cognite client and run this cell again."
      ]
    },
    {
      "cell_type": "markdown",
      "metadata": {},
      "source": [
        "Go to the CDF UI to see when function is ready, call it using code or UI to find the output saved in a timeseries in CDF."
      ]
    },
    {
      "cell_type": "markdown",
      "metadata": {
        "id": "4bF1-_cw-7By"
      },
      "source": [
        "## Machine Learning to Forecast the thermal resistance"
      ]
    },
    {
      "cell_type": "markdown",
      "metadata": {
        "id": "CKtPNKB-_LRO"
      },
      "source": [
        "Along with the Physics calculations, if we need to predict the values of thermal resistance for future timesteps, based on trend or other factors, we can quickly build a model which will forecast the thermal resistance, based on recent history and it can be used to monitor the Performance of the Heat exchanger and using predictions, we can detect any upcoming issues or problems in the system."
      ]
    },
    {
      "cell_type": "markdown",
      "metadata": {
        "id": "I4CWDYthCIif"
      },
      "source": [
        "First install the library we'll use for forecasting"
      ]
    },
    {
      "cell_type": "code",
      "execution_count": 4,
      "metadata": {
        "colab": {
          "base_uri": "https://localhost:8080/"
        },
        "id": "nMKus-MdBhCo",
        "outputId": "9107a9b1-991f-4cbe-8683-a3ec1b6b8c30"
      },
      "outputs": [
        {
          "name": "stdout",
          "output_type": "stream",
          "text": [
            "Note: you may need to restart the kernel to use updated packages.\n"
          ]
        }
      ],
      "source": [
        "%pip install -q Prophet"
      ]
    },
    {
      "cell_type": "markdown",
      "metadata": {
        "id": "FFoLK__HCM5X"
      },
      "source": [
        "Now, let's format the data suitable for Prophet functions"
      ]
    },
    {
      "cell_type": "code",
      "execution_count": 17,
      "metadata": {
        "colab": {
          "base_uri": "https://localhost:8080/",
          "height": 206
        },
        "id": "JnPwMhIgCBNV",
        "outputId": "89598edf-6d65-4b4d-8acd-35733961fdda"
      },
      "outputs": [
        {
          "data": {
            "text/html": [
              "<div>\n",
              "<style scoped>\n",
              "    .dataframe tbody tr th:only-of-type {\n",
              "        vertical-align: middle;\n",
              "    }\n",
              "\n",
              "    .dataframe tbody tr th {\n",
              "        vertical-align: top;\n",
              "    }\n",
              "\n",
              "    .dataframe thead th {\n",
              "        text-align: right;\n",
              "    }\n",
              "</style>\n",
              "<table border=\"1\" class=\"dataframe\">\n",
              "  <thead>\n",
              "    <tr style=\"text-align: right;\">\n",
              "      <th></th>\n",
              "      <th>ds</th>\n",
              "      <th>y</th>\n",
              "    </tr>\n",
              "  </thead>\n",
              "  <tbody>\n",
              "    <tr>\n",
              "      <th>0</th>\n",
              "      <td>2022-05-17 14:00:00</td>\n",
              "      <td>0.001315</td>\n",
              "    </tr>\n",
              "    <tr>\n",
              "      <th>1</th>\n",
              "      <td>2022-05-17 15:00:00</td>\n",
              "      <td>0.001339</td>\n",
              "    </tr>\n",
              "    <tr>\n",
              "      <th>2</th>\n",
              "      <td>2022-05-17 16:00:00</td>\n",
              "      <td>0.001307</td>\n",
              "    </tr>\n",
              "    <tr>\n",
              "      <th>3</th>\n",
              "      <td>2022-05-17 17:00:00</td>\n",
              "      <td>0.001301</td>\n",
              "    </tr>\n",
              "    <tr>\n",
              "      <th>4</th>\n",
              "      <td>2022-05-17 18:00:00</td>\n",
              "      <td>0.001294</td>\n",
              "    </tr>\n",
              "  </tbody>\n",
              "</table>\n",
              "</div>"
            ],
            "text/plain": [
              "                   ds         y\n",
              "0 2022-05-17 14:00:00  0.001315\n",
              "1 2022-05-17 15:00:00  0.001339\n",
              "2 2022-05-17 16:00:00  0.001307\n",
              "3 2022-05-17 17:00:00  0.001301\n",
              "4 2022-05-17 18:00:00  0.001294"
            ]
          },
          "execution_count": 17,
          "metadata": {},
          "output_type": "execute_result"
        }
      ],
      "source": [
        "df2 = df.copy()[['TR']].reset_index()\n",
        "df2 = df2.rename(columns={'index':\"ds\",'TR':\"y\"})\n",
        "\n",
        "df2.head()"
      ]
    },
    {
      "cell_type": "code",
      "execution_count": 18,
      "metadata": {
        "colab": {
          "base_uri": "https://localhost:8080/"
        },
        "id": "62mAavEbEAld",
        "outputId": "c4a38206-6eab-479c-92b7-de78067341de"
      },
      "outputs": [
        {
          "data": {
            "text/plain": [
              "(22, 7)"
            ]
          },
          "execution_count": 18,
          "metadata": {},
          "output_type": "execute_result"
        }
      ],
      "source": [
        "df.shape"
      ]
    },
    {
      "cell_type": "code",
      "execution_count": 19,
      "metadata": {
        "id": "ENkln3_YCHm_"
      },
      "outputs": [
        {
          "name": "stderr",
          "output_type": "stream",
          "text": [
            "/home/cram/dev/learn-cognite-functions/.venv/lib/python3.8/site-packages/tqdm/auto.py:22: TqdmWarning: IProgress not found. Please update jupyter and ipywidgets. See https://ipywidgets.readthedocs.io/en/stable/user_install.html\n",
            "  from .autonotebook import tqdm as notebook_tqdm\n",
            "Importing plotly failed. Interactive plots will not work.\n"
          ]
        }
      ],
      "source": [
        "from prophet import Prophet"
      ]
    },
    {
      "cell_type": "code",
      "execution_count": 20,
      "metadata": {
        "colab": {
          "base_uri": "https://localhost:8080/"
        },
        "id": "_YPe6cHwCYOq",
        "outputId": "4dfb22ca-5912-47d5-c6cd-68af21275281"
      },
      "outputs": [
        {
          "name": "stderr",
          "output_type": "stream",
          "text": [
            "15:03:13 - cmdstanpy - INFO - Chain [1] start processing\n",
            "15:03:13 - cmdstanpy - INFO - Chain [1] done processing\n"
          ]
        },
        {
          "data": {
            "text/plain": [
              "<prophet.forecaster.Prophet at 0x7f3bec542af0>"
            ]
          },
          "execution_count": 20,
          "metadata": {},
          "output_type": "execute_result"
        }
      ],
      "source": [
        "m = Prophet()\n",
        "m.fit(df2)"
      ]
    },
    {
      "cell_type": "markdown",
      "metadata": {
        "id": "sTxUlEvRCwhZ"
      },
      "source": [
        "### Forecast for next 15 days"
      ]
    },
    {
      "cell_type": "markdown",
      "metadata": {
        "id": "LVZxDWTHCnNl"
      },
      "source": [
        "Let's add 10% increase from the historical mean as the threshold for monitoring"
      ]
    },
    {
      "cell_type": "code",
      "execution_count": 23,
      "metadata": {
        "colab": {
          "base_uri": "https://localhost:8080/",
          "height": 441
        },
        "id": "oS_QU2R9CYLR",
        "outputId": "4042962d-8b0a-4a40-d525-dc516b0bb039"
      },
      "outputs": [
        {
          "data": {
            "image/png": "[encoded data removed]",
            "text/plain": [
              "<Figure size 720x432 with 1 Axes>"
            ]
          },
          "metadata": {},
          "output_type": "display_data"
        }
      ],
      "source": [
        "future = m.make_future_dataframe(periods=24*15, freq='H')\n",
        "future['cap'] = 1.1*df['TR'].mean() #\n",
        "fcst = m.predict(future)\n",
        "fig = m.plot(fcst)"
      ]
    },
    {
      "cell_type": "markdown",
      "metadata": {
        "id": "_IiSnzsOEccV"
      },
      "source": [
        "It shows that as per current trend based on last few weeks, data, it will cross the threshold very soon. This information can be utilized by the maintenance department or the operations."
      ]
    },
    {
      "cell_type": "markdown",
      "metadata": {
        "id": "YssZPowtFKZK"
      },
      "source": [
        "Next, we can create the cognite function to run this model daily and save the forecasts in CDF for monitoring purposes."
      ]
    },
    {
      "cell_type": "markdown",
      "metadata": {
        "id": "FKJw_wNWFYcP"
      },
      "source": [
        "## Running ML predictions with cognite functions"
      ]
    },
    {
      "cell_type": "markdown",
      "metadata": {
        "id": "LRcHIkt3ISmj"
      },
      "source": [
        "Add the below code the the handler.py file. Additionally, we need to create a requirements.txt file to add the Prophet library as dependency to be installed."
      ]
    },
    {
      "cell_type": "code",
      "execution_count": 39,
      "metadata": {
        "id": "CszZ5-QN_Fsn"
      },
      "outputs": [],
      "source": [
        "from cognite.client.data_classes import TimeSeries\n",
        "from math import log\n",
        "import datetime\n",
        "from datetime import timedelta\n",
        "from prophet import Prophet\n",
        "\n",
        "def thermal_resistance(x):\n",
        "    '''Function to calculate Thermal Resistance'''\n",
        "    # Some constants like Correction factor, Area and Cp values\n",
        "    F = 0.8\n",
        "    A = 1.0\n",
        "    Cp_hot = 2.4\n",
        "    # Calculate the cross temperature differences\n",
        "    x['dT1'] = x['T_hot_IN'] - x['T_cold_OUT']\n",
        "    x['dT2'] = x['T_hot_OUT'] - x['T_cold_IN']\n",
        "    # Calculate the numerator and denominator for the thermal resistance calculation\n",
        "    temp1 = A*F*(x['dT1']-x['dT2'])/log(x['dT1']/x['dT2'])\n",
        "    temp2 = x['Flow_hot']*Cp_hot*(x['T_hot_IN']-x['T_hot_OUT'])\n",
        "    tr = temp1/temp2\n",
        "    return tr\n",
        "\n",
        "def thermal_resistance_forecast(df):\n",
        "    '''Function to forecast the Thermal Resistance'''\n",
        "    df2 = df.copy()[['TR']].reset_index()\n",
        "    df2 = df2.rename(columns={'index':\"ds\",'TR':\"y\"})\n",
        "    m = Prophet()\n",
        "    m.fit(df2)\n",
        "    future = m.make_future_dataframe(periods=24*15, freq='H')\n",
        "    future['cap'] = 1.1*df['TR'].mean() #\n",
        "    fcst = m.predict(future)\n",
        "    fcst_df = fcst[['ds','yhat']].set_index('ds')\n",
        "    fcst_df.columns = ['TR']\n",
        "    return fcst_df\n",
        "\n",
        "def create_and_save_time_series_data(client,data,ts_external_id):\n",
        "  '''Function to create the time series and save the data'''\n",
        "  asset_id = 7640884189698369 # 23-HA-9114 Asset\n",
        "  cdf_ts = client.time_series.retrieve(external_id=ts_external_id)\n",
        "  if cdf_ts is None:\n",
        "    ts = TimeSeries(external_id=ts_external_id,name=ts_external_id, asset_id = asset_id, unit = 'm2K/W')\n",
        "    client.time_series.create(ts)\n",
        "    print(\"Created time series\")\n",
        "  else:\n",
        "    print(\"Existing Time Series\")\n",
        "  dps = []\n",
        "  for index, r in data.iterrows():\n",
        "      dps= dps+[{\"timestamp\": r.name, \"value\": r['TR']}]\n",
        "  try:\n",
        "      client.datapoints.insert(datapoints = dps,external_id = ts_external_id)\n",
        "  except:\n",
        "      pass\n",
        "\n",
        "\n",
        "def handle(client,data=None, secrets=None, function_call_info=None):\n",
        "    \"\"\"Handler Function to be Run/Deployed\n",
        "    Args:\n",
        "        client : Cognite Client (not needed, it's availble to it, when deployed)\n",
        "        data : data needed by function\n",
        "        secrets : Any secrets it needs\n",
        "        function_call_info : any other information about function\n",
        "\n",
        "    Returns:\n",
        "        response : response or result from the function \n",
        "    \"\"\"\n",
        "    ts_exids = ['pi:163657','pi:163658','pi:160887','pi:191092','pi:163374','pi:160184']\n",
        "    column_names = [\"T_cold_IN\",\"T_cold_OUT\",\"T_hot_IN\",\"T_hot_OUT\",\"Flow_cold\",\"Flow_hot\"]\n",
        "    # Retrieve the data\n",
        "    start_date = datetime.datetime(2018, 8, 1)\n",
        "    end_date = start_date + timedelta(days=30)\n",
        "    df = client.datapoints.retrieve_dataframe(external_id=ts_exids,\n",
        "                                                        aggregates=['average'],\n",
        "                                                        granularity='1h',\n",
        "                                                        start=start_date,\n",
        "                                                        end=end_date,\n",
        "                                                        include_aggregate_name=False\n",
        "                                                        )\n",
        "    df.fillna(method=\"ffill\", inplace=True)\n",
        "    df.columns = column_names\n",
        "    # Calculate the Thermal resistance\n",
        "    df['TR'] = df.apply(lambda x:thermal_resistance(x),axis=1)\n",
        "    # Forecast the Thermal resistance\n",
        "    fcst_df = thermal_resistance_forecast(df)\n",
        "    # Save the Results as time series\n",
        "    create_and_save_time_series_data(client,df[['TR']],\"hx_thermal_resistance\")\n",
        "    create_and_save_time_series_data(client,fcst_df[['TR']],\"hx_thermal_resistance_forecast\")\n",
        "    # Return the result as json\n",
        "    result = df[['TR']].to_json()\n",
        "    return result"
      ]
    },
    {
      "cell_type": "markdown",
      "metadata": {},
      "source": [
        "We can create a new folder and save the updated handler.py & requirements.txt file there."
      ]
    },
    {
      "cell_type": "code",
      "execution_count": null,
      "metadata": {},
      "outputs": [],
      "source": [
        "# ! mkdir ../hx-thermal-resistance-forecast"
      ]
    },
    {
      "cell_type": "code",
      "execution_count": 40,
      "metadata": {},
      "outputs": [],
      "source": [
        "function = client.functions.create(\n",
        "    name=\"Thermal Performance Forecasting Function\",\n",
        "    external_id=\"thermal-perf-forecast\",\n",
        "    folder=\"../hx-thermal-resistance-forecast/\",\n",
        "    description=\"Function to Calculate & Forecast Thermal Performance of Discharge Coolers\",\n",
        "    owner=\"Choukha Ram\"\n",
        "    )\n",
        "# Note : if this cell is giving you errors :\n",
        "# Just restart the notebook, create the cognite client and run this cell again."
      ]
    },
    {
      "cell_type": "markdown",
      "metadata": {},
      "source": [
        "### Running calculations on a Schedule"
      ]
    },
    {
      "cell_type": "markdown",
      "metadata": {},
      "source": [
        "When creating function in CDF UI, we can also create the schedule,\n",
        "- for hourly schedule, enter this cron expression `0 * * * *`\n",
        "- for daily `0 0 * * *` \n",
        "- for every minute `* * * * *` "
      ]
    },
    {
      "cell_type": "markdown",
      "metadata": {},
      "source": [
        "<img src=\"../images/create_schedule_ui.jpg\">"
      ]
    },
    {
      "cell_type": "markdown",
      "metadata": {
        "id": "EysR3qgyXxox"
      },
      "source": [
        "You can also create the Schedule using the Python SDK, for which you'll need the client credentials."
      ]
    },
    {
      "cell_type": "code",
      "execution_count": 41,
      "metadata": {
        "id": "iZvpW49YX3Sr"
      },
      "outputs": [],
      "source": [
        "client_credentials = {\n",
        "    \"client_id\": CLIENT_ID,\n",
        "    \"client_secret\": CLIENT_SECRET,\n",
        "}\n",
        "schedule = client.functions.schedules.create(\n",
        "    name=\"run-function-every-day\",\n",
        "    cron_expression=\"0 0 * * *\",  # the cron expression runs every day\n",
        "    function_id=function.id,  # we specify the ID of the function we want to schedule\n",
        "    client_credentials=client_credentials,  # this is a dictionary with 'client_secret' and 'client_id'\n",
        "    data={},  # this is the data we wish to call the function with (e.g. time range for calculation)\n",
        "    description=\"This schedule runs the function every minute\",\n",
        ")"
      ]
    },
    {
      "cell_type": "markdown",
      "metadata": {},
      "source": [
        "Use the code or UI to make a call to the function and verify the output in CDF or response from function. Check the logs if any issues."
      ]
    },
    {
      "cell_type": "markdown",
      "metadata": {
        "id": "JCyxBzy9YHBB"
      },
      "source": [
        "#### Access the Function Calls"
      ]
    },
    {
      "cell_type": "markdown",
      "metadata": {
        "id": "-MYSw725YOXp"
      },
      "source": [
        "List the calls made to the function"
      ]
    },
    {
      "cell_type": "code",
      "execution_count": 44,
      "metadata": {
        "id": "z5szNf8JYLGp"
      },
      "outputs": [
        {
          "data": {
            "text/html": [
              "<div>\n",
              "<style scoped>\n",
              "    .dataframe tbody tr th:only-of-type {\n",
              "        vertical-align: middle;\n",
              "    }\n",
              "\n",
              "    .dataframe tbody tr th {\n",
              "        vertical-align: top;\n",
              "    }\n",
              "\n",
              "    .dataframe thead th {\n",
              "        text-align: right;\n",
              "    }\n",
              "</style>\n",
              "<table border=\"1\" class=\"dataframe\">\n",
              "  <thead>\n",
              "    <tr style=\"text-align: right;\">\n",
              "      <th></th>\n",
              "      <th>id</th>\n",
              "      <th>start_time</th>\n",
              "      <th>status</th>\n",
              "      <th>function_id</th>\n",
              "      <th>end_time</th>\n",
              "    </tr>\n",
              "  </thead>\n",
              "  <tbody>\n",
              "    <tr>\n",
              "      <th>0</th>\n",
              "      <td>3845225630074099</td>\n",
              "      <td>1658843665482</td>\n",
              "      <td>Running</td>\n",
              "      <td>6329621345240516</td>\n",
              "      <td>&lt;NA&gt;</td>\n",
              "    </tr>\n",
              "    <tr>\n",
              "      <th>1</th>\n",
              "      <td>1008723032366312</td>\n",
              "      <td>1658843514201</td>\n",
              "      <td>Completed</td>\n",
              "      <td>6329621345240516</td>\n",
              "      <td>1658843549280</td>\n",
              "    </tr>\n",
              "  </tbody>\n",
              "</table>\n",
              "</div>"
            ],
            "text/plain": [
              "FunctionCallList([<cognite.experimental.data_classes.functions.FunctionCall at 0x7f3c1e5f2100>,\n",
              "                  <cognite.experimental.data_classes.functions.FunctionCall at 0x7f3c1e5f2d60>])"
            ]
          },
          "execution_count": 44,
          "metadata": {},
          "output_type": "execute_result"
        }
      ],
      "source": [
        "calls = function.list_calls()\n",
        "calls"
      ]
    },
    {
      "cell_type": "markdown",
      "metadata": {
        "id": "jAl6cyI1YU9E"
      },
      "source": [
        "Get the response from the latest call"
      ]
    },
    {
      "cell_type": "code",
      "execution_count": null,
      "metadata": {
        "id": "3MQAI2JTYSD_"
      },
      "outputs": [],
      "source": [
        "# Get the response of the last function call\n",
        "calls[-1].get_response()"
      ]
    },
    {
      "cell_type": "markdown",
      "metadata": {
        "id": "mRRYpwxxFWD9"
      },
      "source": [
        "## Method 3: Using Deploy functions Template"
      ]
    },
    {
      "cell_type": "markdown",
      "metadata": {},
      "source": [
        "When you've tested you functions locally and want to deploy multiple functions related to a project, using version control (CI/CD). There's a public template which can be used to deploy the functions."
      ]
    },
    {
      "cell_type": "markdown",
      "metadata": {
        "id": "Eqwp4VTaSeNh"
      },
      "source": [
        "- Follow the instructions given in the template documentation. https://github.com/cognitedata/deploy-functions-oidc#how-to-use-it"
      ]
    },
    {
      "cell_type": "markdown",
      "metadata": {
        "id": "SQoL5v-tYhyS"
      },
      "source": [
        "- Create a separate folder for each function and place the code files e.g. handler.py and requirements.txt files inside it."
      ]
    },
    {
      "cell_type": "markdown",
      "metadata": {
        "id": "Wv_MxeWALlCr"
      },
      "source": [
        "## Visualization in the PowerBI/Grafana\n",
        "Once calculation results are stored in the CDF, they can be fed to downstream visualization applications such as PowerBI or Grafana.\n",
        "An example grafana dashboard for the Heat Exchanger case is shown here."
      ]
    },
    {
      "cell_type": "markdown",
      "metadata": {
        "id": "j_QdwEYwpI-K"
      },
      "source": [
        "URL (restricted access ) https://grafana-tech-sales.cogniteapp.com/d/EgxLOhE7x/heatex-demo?orgId=1"
      ]
    },
    {
      "cell_type": "markdown",
      "metadata": {},
      "source": [
        "<img src=\"../images/grafana-hx-monitor.jpg\">"
      ]
    },
    {
      "cell_type": "markdown",
      "metadata": {
        "id": "UCpmlulFXhhU"
      },
      "source": [
        "## Cleanup"
      ]
    },
    {
      "cell_type": "markdown",
      "metadata": {
        "id": "Xb2J_y4WXly5"
      },
      "source": [
        "You can delete the created/deployed function using Code or UI. This will also delete the schedules along with them."
      ]
    },
    {
      "cell_type": "code",
      "execution_count": null,
      "metadata": {
        "id": "rw7L74jQXjlC"
      },
      "outputs": [],
      "source": [
        "client.functions.delete(id=function.id)"
      ]
    }
  ],
  "metadata": {
    "colab": {
      "collapsed_sections": [],
      "name": "CogniteFunctions-UseCase.ipynb",
      "provenance": []
    },
    "kernelspec": {
      "display_name": "Python 3.8.10 ('.venv': poetry)",
      "language": "python",
      "name": "python3"
    },
    "language_info": {
      "codemirror_mode": {
        "name": "ipython",
        "version": 3
      },
      "file_extension": ".py",
      "mimetype": "text/x-python",
      "name": "python",
      "nbconvert_exporter": "python",
      "pygments_lexer": "ipython3",
      "version": "3.8.10"
    },
    "vscode": {
      "interpreter": {
        "hash": "3c69e91887e8abf517e50ee2824544e1013cced4be16b750c5a1948ad17fb1ac"
      }
    }
  },
  "nbformat": 4,
  "nbformat_minor": 0
}
