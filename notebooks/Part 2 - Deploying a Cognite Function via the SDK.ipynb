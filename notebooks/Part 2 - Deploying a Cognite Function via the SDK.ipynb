{
 "cells": [
  {
   "cell_type": "markdown",
   "id": "706ec0f5",
   "metadata": {},
   "source": [
    "# Copyright 2022 Cognite AS\n",
    "# Deploying a Cognite Function via the SDK\n",
    "\n",
    "In this notebook, we will learn how to deploy the thermal resistance calculation that we performed in the previous section as a Cognite Function. We will also look at how we can enable this calculation to take place every 5 minutes through the use of Cognite scheduling. \n"
   ]
  },
  {
   "cell_type": "markdown",
   "id": "c50ea3db",
   "metadata": {},
   "source": [
    "## 1. Authentication and Client Creation\n",
    "\n",
    "Here we'll create the Cognite client using an interactive flow. Once this client is created, this will be the main way to communicate with the Cognite Data Fusion.\n",
    "\n",
    "Import and create a client to communicate with the Cognite Data Fusion (CDF)"
   ]
  },
  {
   "cell_type": "code",
   "execution_count": null,
   "id": "4a3da86a",
   "metadata": {},
   "outputs": [],
   "source": [
    "from cognite.client import CogniteClient, ClientConfig\n",
    "from cognite.client.credentials import Token\n",
    "from msal import PublicClientApplication\n",
    "\n",
    "\n",
    "# Enter your name here\n",
    "YOUR_NAME = \"Everton-Colling\"\n",
    "\n",
    "# Contact Project Administrator to get these\n",
    "TENANT_ID = \"48d5043c-cf70-4c49-881c-c638f5796997\"\n",
    "CLIENT_ID = \"1c224c70-1df2-4f05-964a-753a6731748a\"\n",
    "CDF_CLUSTER = \"westeurope-1\"\n",
    "COGNITE_PROJECT = \"ds-cognitefunctions\"\n",
    "\n",
    "SCOPES = [f\"https://{CDF_CLUSTER}.cognitedata.com/.default\"]\n",
    "TOKEN_URL = f\"https://login.microsoftonline.com/{TENANT_ID}/oauth2/v2.0/token\"\n",
    "AUTHORITY_HOST_URI = \"https://login.microsoftonline.com\"\n",
    "AUTHORITY_URI = AUTHORITY_HOST_URI + \"/\" + TENANT_ID\n",
    "PORT = 53000\n",
    "\n",
    "\n",
    "def authenticate_azure():\n",
    "\n",
    "    app = PublicClientApplication(client_id=CLIENT_ID, authority=AUTHORITY_URI)\n",
    "\n",
    "    # interactive login - make sure you have http://localhost:port in Redirect URI in App Registration as type \"Mobile and desktop applications\"\n",
    "    creds = app.acquire_token_interactive(scopes=SCOPES, port=PORT)\n",
    "    return creds\n",
    "\n",
    "\n",
    "creds = authenticate_azure()\n",
    "\n",
    "\n",
    "cnf = ClientConfig(\n",
    "    client_name=\"my-special-client\",\n",
    "    project=COGNITE_PROJECT,\n",
    "    credentials=Token(creds[\"access_token\"]),\n",
    "    base_url=f\"https://{CDF_CLUSTER}.cognitedata.com\",\n",
    ")\n",
    "client = CogniteClient(cnf)"
   ]
  },
  {
   "cell_type": "markdown",
   "id": "2c248672",
   "metadata": {},
   "source": [
    "## 2. Creating the handle function\n",
    "\n",
    "As shown in the Examples https://github.com/cognitedata/cognite-function-examples/blob/main/examples/01-creating-a-function-from-a-notebook/create-cognite-function.ipynb , we need to create a function called \"handle\" and put the required calculation code/steps inside it. Importing packages within the handler funtion is for illustrative purpose in this example.\n",
    "\n",
    "The `thermal_resistance` function that we defined in the previous notebook has been moved to the `tools.py` file for simplicity."
   ]
  },
  {
   "cell_type": "code",
   "execution_count": null,
   "id": "e6e1fe5d",
   "metadata": {},
   "outputs": [],
   "source": [
    "def handle(client, data=None, secrets=None, function_call_info=None):\n",
    "\n",
    "    from tools import thermal_resistance\n",
    "    import datetime\n",
    "    from datetime import timedelta\n",
    "\n",
    "    \"\"\"Handler Function to be Run/Deployed\n",
    "    Args:\n",
    "        client : Cognite Client (not needed, it's available to it, when deployed)\n",
    "        data : data needed by function\n",
    "        secrets : Any secrets it needs\n",
    "        function_call_info : any other information about function\n",
    "\n",
    "    Returns:\n",
    "        response : response or result from the function\n",
    "    \"\"\"\n",
    "\n",
    "    ts_exids = [\n",
    "        \"pi:163657\",\n",
    "        \"pi:163658\",\n",
    "        \"pi:160887\",\n",
    "        \"pi:191092\",\n",
    "        \"pi:163374\",\n",
    "        \"pi:160184\",\n",
    "    ]\n",
    "    column_names = [\n",
    "        \"T_cold_IN\",\n",
    "        \"T_cold_OUT\",\n",
    "        \"T_hot_IN\",\n",
    "        \"T_hot_OUT\",\n",
    "        \"Flow_cold\",\n",
    "        \"Flow_hot\",\n",
    "    ]\n",
    "    # Retrieve the data\n",
    "    start_date = datetime.datetime(2018, 8, 1)\n",
    "    end_date = start_date + timedelta(minutes=5)\n",
    "    df = client.datapoints.retrieve_dataframe(\n",
    "        external_id=ts_exids,\n",
    "        aggregates=[\"average\"],\n",
    "        granularity=\"1m\",\n",
    "        start=start_date,\n",
    "        end=end_date,\n",
    "        include_aggregate_name=False,\n",
    "    )\n",
    "    df.fillna(method=\"ffill\", inplace=True)\n",
    "    df.columns = column_names\n",
    "    # Calculate the Thermal resistance\n",
    "    df[\"TR\"] = df.apply(lambda x: thermal_resistance(x), axis=1)\n",
    "    # Return the result as json\n",
    "    result = df[[\"TR\"]].to_json()\n",
    "    return result"
   ]
  },
  {
   "cell_type": "markdown",
   "id": "f7fbdf65",
   "metadata": {},
   "source": [
    "Before we deploy this Python-function as a Cognite Function, we can verify that it works locally by passing in our previously instantiated CogniteClient and a data-dictionary."
   ]
  },
  {
   "cell_type": "code",
   "execution_count": null,
   "id": "c7ad4a7a",
   "metadata": {},
   "outputs": [],
   "source": [
    "handle(client)"
   ]
  },
  {
   "cell_type": "markdown",
   "id": "94ff421a",
   "metadata": {},
   "source": [
    "## 3. Deploying the Function to CDF\n",
    "\n",
    "If the calculation is simple and basic, doesn't need any external dependencies, it can be created & deployed directly using python-sdk, by passing handle function as a parameter ( for function_handle) in functions.create command, as shown below."
   ]
  },
  {
   "cell_type": "code",
   "execution_count": null,
   "id": "102e2994",
   "metadata": {},
   "outputs": [],
   "source": [
    "function_external_id = f\"hx_thermal_perf_{YOUR_NAME}\"\n",
    "function_name = f\"Thermal Performance Calculation {YOUR_NAME}\""
   ]
  },
  {
   "cell_type": "code",
   "execution_count": null,
   "id": "efd7a317",
   "metadata": {},
   "outputs": [],
   "source": [
    "function = client.functions.create(\n",
    "    name=function_name,\n",
    "    external_id=function_external_id,\n",
    "    function_handle=handle,\n",
    "    description=\"Function to Calculate Thermal Performance of Discharge Coolers\",\n",
    "    runtime=\"py39\",\n",
    ")"
   ]
  },
  {
   "cell_type": "markdown",
   "id": "125bc2d8",
   "metadata": {},
   "source": [
    "This might take few minutes to deploy before function is ready to run. You can check the status as follows:"
   ]
  },
  {
   "cell_type": "code",
   "execution_count": null,
   "id": "4064531c",
   "metadata": {},
   "outputs": [],
   "source": [
    "import time\n",
    "\n",
    "\n",
    "def status_check(function):\n",
    "\n",
    "    start_time = time.time()\n",
    "    # Repeat until status is ready\n",
    "    while function.status != \"Ready\":\n",
    "\n",
    "        function.update()\n",
    "\n",
    "        time_elapsed = int(time.time() - start_time)\n",
    "\n",
    "        print(function.status + f\". Waiting for {time_elapsed} seconds\", end=\"\\r\")\n",
    "\n",
    "        if function.status == \"Failed\":\n",
    "            print(\"Failed to deploy function\")\n",
    "            break\n",
    "\n",
    "        time.sleep(5)\n",
    "    else:\n",
    "        print(f\"Function is successfully deployed. Wait time: {time_elapsed} seconds.\")\n",
    "\n",
    "\n",
    "status_check(function)"
   ]
  },
  {
   "cell_type": "markdown",
   "id": "dd43745c",
   "metadata": {},
   "source": [
    "If the function has deployed succesfully, then we can try calling it with the SDK."
   ]
  },
  {
   "cell_type": "code",
   "execution_count": null,
   "id": "184d7368",
   "metadata": {},
   "outputs": [],
   "source": [
    "call = function.call()\n",
    "call"
   ]
  },
  {
   "cell_type": "markdown",
   "id": "48f24a0e",
   "metadata": {},
   "source": [
    "Looks like the function has failed, let's investigate the logs to see what has happened."
   ]
  },
  {
   "cell_type": "code",
   "execution_count": null,
   "id": "639974b7",
   "metadata": {},
   "outputs": [],
   "source": [
    "call.get_logs()"
   ]
  },
  {
   "cell_type": "markdown",
   "id": "e69ce709",
   "metadata": {},
   "source": [
    "As logs say `\"ModuleNotFoundError: No module named 'tools'\"`, it looks like it can't find the thermal resistance function. We can fix this in the next section by making sure that our function has all the packages that it needs to run properly.\n"
   ]
  },
  {
   "cell_type": "markdown",
   "id": "a9726f84",
   "metadata": {},
   "source": [
    "## 4. Uploading a folder to Cognite Functions\n",
    "\n",
    "We have the neat option of uploading the contents of an entire folder to our Cognite Function. To this end, let's create a new folder `hx-thermal-resistance` and put all our code in there.\n",
    "\n",
    "In this folder you should have the following:\n",
    "* handler.py\n",
    "* tools.py\n",
    "* requirements.txt\n",
    "\n",
    "The 4 notebook cells below will automatically create the folder and the code files for you. If you encounter any issues while running the shell scripts, you can manually create the folder and files.\n",
    "\n",
    "* Create directory\n",
    "* Copy tools.py over to the folder\n",
    "* Create handler.py in the folder\n",
    "* Create requirements.txt in the folder"
   ]
  },
  {
   "cell_type": "code",
   "execution_count": null,
   "id": "a95efefe",
   "metadata": {},
   "outputs": [],
   "source": [
    "%%sh\n",
    "mkdir ../hx-thermal-resistance"
   ]
  },
  {
   "cell_type": "code",
   "execution_count": null,
   "id": "df1ce4a8",
   "metadata": {},
   "outputs": [],
   "source": [
    "%%sh\n",
    "cp tools.py ../hx-thermal-resistance/"
   ]
  },
  {
   "cell_type": "code",
   "execution_count": null,
   "id": "4d4f339e",
   "metadata": {},
   "outputs": [],
   "source": [
    "%%writefile ../hx-thermal-resistance/handler.py\n",
    "import datetime\n",
    "from datetime import timedelta\n",
    "from tools import thermal_resistance\n",
    "\n",
    "\n",
    "def handle(client, data=None, secrets=None, function_call_info=None):\n",
    "    \"\"\"Handler Function to be Run/Deployed\n",
    "    Args:\n",
    "        client : Cognite Client (not needed, it's available to it, when deployed)\n",
    "        data : data needed by function\n",
    "        secrets : Any secrets it needs\n",
    "        function_call_info : any other information about function\n",
    "\n",
    "    Returns:\n",
    "        response : response or result from the function\n",
    "    \"\"\"\n",
    "\n",
    "    ts_exids = [\n",
    "        \"pi:163657\",\n",
    "        \"pi:163658\",\n",
    "        \"pi:160887\",\n",
    "        \"pi:191092\",\n",
    "        \"pi:163374\",\n",
    "        \"pi:160184\",\n",
    "    ]\n",
    "    column_names = [\n",
    "        \"T_cold_IN\",\n",
    "        \"T_cold_OUT\",\n",
    "        \"T_hot_IN\",\n",
    "        \"T_hot_OUT\",\n",
    "        \"Flow_cold\",\n",
    "        \"Flow_hot\",\n",
    "    ]\n",
    "    # Retrieve the data\n",
    "    start_date = datetime.datetime(2018, 8, 1)\n",
    "    end_date = start_date + timedelta(minutes=5)\n",
    "    df = client.datapoints.retrieve_dataframe(\n",
    "        external_id=ts_exids,\n",
    "        aggregates=[\"average\"],\n",
    "        granularity=\"1m\",\n",
    "        start=start_date,\n",
    "        end=end_date,\n",
    "        include_aggregate_name=False,\n",
    "    )\n",
    "    df.fillna(method=\"ffill\", inplace=True)\n",
    "    df.columns = column_names\n",
    "    # Calculate the Thermal resistance\n",
    "    df[\"TR\"] = df.apply(lambda x: thermal_resistance(x), axis=1)\n",
    "    # Return the result as json\n",
    "    result = df[[\"TR\"]].to_json()\n",
    "    return result"
   ]
  },
  {
   "cell_type": "code",
   "execution_count": null,
   "id": "bac62598",
   "metadata": {},
   "outputs": [],
   "source": [
    "%%sh\n",
    "echo \"\"\"pandas >= 1.4.3\\ncognite-sdk < 6\"\"\" > ../hx-thermal-resistance/requirements.txt"
   ]
  },
  {
   "cell_type": "code",
   "execution_count": null,
   "id": "72e06b3f",
   "metadata": {},
   "outputs": [],
   "source": [
    "# Delete the function we deployed to avoid duplication errors\n",
    "client.functions.delete(external_id=function_external_id)"
   ]
  },
  {
   "cell_type": "code",
   "execution_count": null,
   "id": "957f026b",
   "metadata": {},
   "outputs": [],
   "source": [
    "function = client.functions.create(\n",
    "    name=function_name,\n",
    "    external_id=function_external_id,\n",
    "    folder=\"../hx-thermal-resistance\",  # We will upload this directory\n",
    "    description=\"Function to Calculate Thermal Performance of Discharge Coolers\",\n",
    "    owner=YOUR_NAME,\n",
    "    runtime=\"py39\",\n",
    ")"
   ]
  },
  {
   "cell_type": "code",
   "execution_count": null,
   "id": "62abfc46",
   "metadata": {},
   "outputs": [],
   "source": [
    "# Check the status if it has been deployed\n",
    "status_check(function)"
   ]
  },
  {
   "cell_type": "code",
   "execution_count": null,
   "id": "cc27a9b4",
   "metadata": {},
   "outputs": [],
   "source": [
    "# Check if the function call has been successful\n",
    "call = function.call()\n",
    "call"
   ]
  },
  {
   "cell_type": "code",
   "execution_count": null,
   "id": "ad19e278",
   "metadata": {},
   "outputs": [],
   "source": [
    "# Get response\n",
    "call.get_response()"
   ]
  },
  {
   "cell_type": "markdown",
   "id": "4862ac12",
   "metadata": {},
   "source": [
    "## 5. Running a Cognite Function on a schedule\n",
    "\n",
    "When creating function in CDF UI, we can also create the schedule,\n",
    "- for hourly schedule, enter this cron expression `0 * * * *`\n",
    "- for daily `0 0 * * *` \n",
    "- for every minute `* * * * *` "
   ]
  },
  {
   "cell_type": "code",
   "execution_count": null,
   "id": "87e615af",
   "metadata": {},
   "outputs": [],
   "source": [
    "from getpass import getpass\n",
    "\n",
    "CLIENT_SECRET = getpass()"
   ]
  },
  {
   "cell_type": "code",
   "execution_count": null,
   "id": "d81af051",
   "metadata": {},
   "outputs": [],
   "source": [
    "client_credentials = {\n",
    "    \"client_id\": CLIENT_ID,\n",
    "    \"client_secret\": CLIENT_SECRET,\n",
    "}\n",
    "\n",
    "schedule = client.functions.schedules.create(\n",
    "    name=\"run-function-every-day\",\n",
    "    cron_expression=\"*/5 * * * *\",  # the cron expression runs every 5 minutes\n",
    "    function_id=function.id,  # we specify the ID of the function we want to schedule\n",
    "    data={},  # this is the data we wish to call the function with (e.g. time range for calculation)\n",
    "    description=\"This schedule runs the function every 5 minutes\",\n",
    "    client_credentials=client_credentials,  # this is a dictionary with 'client_secret' and 'client_id'\n",
    ")"
   ]
  },
  {
   "cell_type": "code",
   "execution_count": null,
   "id": "cde88619",
   "metadata": {},
   "outputs": [],
   "source": [
    "client.functions.calls.list(function_external_id=function_external_id)"
   ]
  },
  {
   "attachments": {
    "image.png": {
     "image/png": "[encoded data removed]"
    }
   },
   "cell_type": "markdown",
   "id": "f300bd7a",
   "metadata": {},
   "source": [
    "## 6. Checking the Cognite Function on the CDF UI\n",
    "\n",
    "You should be able to see your Cognite Function deployed on the CDF UI as shown in the screenshot below. In the next notebook, we will cover in more detail how the UI can also be leveraged to deploy Cognite Functions. \n",
    "\n",
    "https://cognite-learn.fusion.cognite.com/ds-cognitefunctions/functions?cluster=westeurope-1.cognitedata.com&env=westeurope-1\n",
    "\n",
    "![image.png](attachment:image.png)\n",
    "\n"
   ]
  },
  {
   "cell_type": "markdown",
   "id": "83d373c3",
   "metadata": {},
   "source": [
    "## 7. Deleting the Cognite Function\n",
    "\n",
    "Let's clean-up and delete the function"
   ]
  },
  {
   "cell_type": "code",
   "execution_count": null,
   "id": "58652a0d",
   "metadata": {},
   "outputs": [],
   "source": [
    "client.functions.delete(external_id=function_external_id)"
   ]
  },
  {
   "cell_type": "code",
   "execution_count": null,
   "id": "c1408c33",
   "metadata": {},
   "outputs": [],
   "source": []
  }
 ],
 "metadata": {
  "kernelspec": {
   "display_name": "Python 3",
   "language": "python",
   "name": "python3"
  },
  "language_info": {
   "codemirror_mode": {
    "name": "ipython",
    "version": 3
   },
   "file_extension": ".py",
   "mimetype": "text/x-python",
   "name": "python",
   "nbconvert_exporter": "python",
   "pygments_lexer": "ipython3",
   "version": "3.9.16"
  },
  "vscode": {
   "interpreter": {
    "hash": "44632770a8e081848b27e822703d69684fcad84b9999757e821a0f496acab079"
   }
  }
 },
 "nbformat": 4,
 "nbformat_minor": 5
}
